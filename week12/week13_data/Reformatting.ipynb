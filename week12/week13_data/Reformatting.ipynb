{
 "cells": [
  {
   "cell_type": "code",
   "execution_count": 17,
   "metadata": {},
   "outputs": [],
   "source": [
    "samples = ['./KRAKEN/SRR492183.kraken', './KRAKEN/SRR492186.kraken', './KRAKEN/SRR492188.kraken', './KRAKEN/SRR492189.kraken', './KRAKEN/SRR492190.kraken', './KRAKEN/SRR492193.kraken', './KRAKEN/SRR492194.kraken', './KRAKEN/SRR492197.kraken']"
   ]
  },
  {
   "cell_type": "code",
   "execution_count": 21,
   "metadata": {},
   "outputs": [],
   "source": [
    "file = open('./KRAKEN/SRR492183.kraken', 'r')\n",
    "file2 = open('./KRAKEN/SRR492183.kraken_form', 'w')\n",
    "for line in file:\n",
    "    fields = line.rstrip().split(';')\n",
    "    #print(fields[0])\n",
    "    file2.write(fields[0] + '\\t')\n",
    "    for field in fields[1:]:\n",
    "        file2.write(field + '\\t')\n",
    "    file2.write('\\n')\n",
    "file2.close()"
   ]
  },
  {
   "cell_type": "code",
   "execution_count": 22,
   "metadata": {},
   "outputs": [],
   "source": [
    "file = open('./KRAKEN/SRR492186.kraken', 'r')\n",
    "file2 = open('./KRAKEN/SRR492186.kraken_form', 'w')\n",
    "for line in file:\n",
    "    fields = line.rstrip().split(';')\n",
    "    #print(fields[0])\n",
    "    file2.write(fields[0] + '\\t')\n",
    "    for field in fields[1:]:\n",
    "        file2.write(field + '\\t')\n",
    "    file2.write('\\n')\n",
    "file2.close()"
   ]
  },
  {
   "cell_type": "code",
   "execution_count": 23,
   "metadata": {},
   "outputs": [],
   "source": [
    "file = open('./KRAKEN/SRR492188.kraken', 'r')\n",
    "file2 = open('./KRAKEN/SRR492188.kraken_form', 'w')\n",
    "for line in file:\n",
    "    fields = line.rstrip().split(';')\n",
    "    #print(fields[0])\n",
    "    file2.write(fields[0] + '\\t')\n",
    "    for field in fields[1:]:\n",
    "        file2.write(field + '\\t')\n",
    "    file2.write('\\n')\n",
    "file2.close()"
   ]
  },
  {
   "cell_type": "code",
   "execution_count": 24,
   "metadata": {},
   "outputs": [],
   "source": [
    "file = open('./KRAKEN/SRR492189.kraken', 'r')\n",
    "file2 = open('./KRAKEN/SRR492189.kraken_form', 'w')\n",
    "for line in file:\n",
    "    fields = line.rstrip().split(';')\n",
    "    #print(fields[0])\n",
    "    file2.write(fields[0] + '\\t')\n",
    "    for field in fields[1:]:\n",
    "        file2.write(field + '\\t')\n",
    "    file2.write('\\n')\n",
    "file2.close()"
   ]
  },
  {
   "cell_type": "code",
   "execution_count": 25,
   "metadata": {},
   "outputs": [],
   "source": [
    "file = open('./KRAKEN/SRR492190.kraken', 'r')\n",
    "file2 = open('./KRAKEN/SRR492190.kraken_form', 'w')\n",
    "for line in file:\n",
    "    fields = line.rstrip().split(';')\n",
    "    #print(fields[0])\n",
    "    file2.write(fields[0] + '\\t')\n",
    "    for field in fields[1:]:\n",
    "        file2.write(field + '\\t')\n",
    "    file2.write('\\n')\n",
    "file2.close()"
   ]
  },
  {
   "cell_type": "code",
   "execution_count": 26,
   "metadata": {},
   "outputs": [],
   "source": [
    "file = open('./KRAKEN/SRR492193.kraken', 'r')\n",
    "file2 = open('./KRAKEN/SRR492193.kraken_form', 'w')\n",
    "for line in file:\n",
    "    fields = line.rstrip().split(';')\n",
    "    #print(fields[0])\n",
    "    file2.write(fields[0] + '\\t')\n",
    "    for field in fields[1:]:\n",
    "        file2.write(field + '\\t')\n",
    "    file2.write('\\n')\n",
    "file2.close()"
   ]
  },
  {
   "cell_type": "code",
   "execution_count": 27,
   "metadata": {},
   "outputs": [],
   "source": [
    "file = open('./KRAKEN/SRR492194.kraken', 'r')\n",
    "file2 = open('./KRAKEN/SRR492194.kraken_form', 'w')\n",
    "for line in file:\n",
    "    fields = line.rstrip().split(';')\n",
    "    #print(fields[0])\n",
    "    file2.write(fields[0] + '\\t')\n",
    "    for field in fields[1:]:\n",
    "        file2.write(field + '\\t')\n",
    "    file2.write('\\n')\n",
    "file2.close()"
   ]
  },
  {
   "cell_type": "code",
   "execution_count": 28,
   "metadata": {},
   "outputs": [],
   "source": [
    "file = open('./KRAKEN/SRR492197.kraken', 'r')\n",
    "file2 = open('./KRAKEN/SRR492197.kraken_form', 'w')\n",
    "for line in file:\n",
    "    fields = line.rstrip().split(';')\n",
    "    #print(fields[0])\n",
    "    file2.write(fields[0] + '\\t')\n",
    "    for field in fields[1:]:\n",
    "        file2.write(field + '\\t')\n",
    "    file2.write('\\n')\n",
    "file2.close()"
   ]
  },
  {
   "cell_type": "code",
   "execution_count": null,
   "metadata": {},
   "outputs": [],
   "source": []
  }
 ],
 "metadata": {
  "kernelspec": {
   "display_name": "Python 3",
   "language": "python",
   "name": "python3"
  },
  "language_info": {
   "codemirror_mode": {
    "name": "ipython",
    "version": 3
   },
   "file_extension": ".py",
   "mimetype": "text/x-python",
   "name": "python",
   "nbconvert_exporter": "python",
   "pygments_lexer": "ipython3",
   "version": "3.6.10"
  }
 },
 "nbformat": 4,
 "nbformat_minor": 4
}
