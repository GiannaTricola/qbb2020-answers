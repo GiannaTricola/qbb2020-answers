{
 "cells": [
  {
   "cell_type": "markdown",
   "metadata": {},
   "source": [
    "# Part 1"
   ]
  },
  {
   "cell_type": "code",
   "execution_count": 4,
   "metadata": {},
   "outputs": [],
   "source": [
    "fs = open('../../qbb2020-answers/day2-lunch/fly.txt', 'r')\n",
    "fn = open('../../qbb2020-answers/day2-lunch/ID.txt', 'w')\n",
    "string= 'DROME'\n",
    "string2 = 'FBgn'\n",
    "ID = {}\n",
    "for line in fs:\n",
    "    if string not in line:\n",
    "        continue\n",
    "    if string2 not in line:\n",
    "        continue\n",
    "    fields = line.rstrip().split()\n",
    "    uni = fields[2]\n",
    "    fb = fields[3]\n",
    "    ID[fb] = uni\n",
    "\n",
    "for fb, uni in ID.items():\n",
    "    fn.write(str(fb)+ '\\t' + str(uni) + '\\n')\n",
    "\n",
    "   \n",
    "        \n",
    "  \n",
    "\n",
    "\n",
    "\n"
   ]
  },
  {
   "cell_type": "markdown",
   "metadata": {},
   "source": [
    "# Part 2"
   ]
  },
  {
   "cell_type": "code",
   "execution_count": 7,
   "metadata": {},
   "outputs": [],
   "source": [
    "f_mapping = '../../qbb2020-answers/day2-lunch/ID.txt'\n",
    "f_ctab = '../../data/results/stringtie/SRR072893/t_data.ctab'\n",
    "f_trans = '../../qbb2020-answers/day2-lunch/UniProt.txt'\n",
    "\n",
    "def mapper(f_mapping, f_ctab, none = False):\n",
    "    f1 = open(f_mapping, 'r')\n",
    "    f2 = open(f_ctab, 'r')\n",
    "    f3 = open(f_trans, 'w')\n",
    "\n",
    "    counter = 0\n",
    "    fd = {}\n",
    "    \n",
    "    for line in f1:\n",
    "        if 'FBgn'in line:\n",
    "            list1= line.split()\n",
    "            fd[list1[0]] = list1[1]\n",
    "    for line2 in f2:\n",
    "        if 'FBgn' in line2:\n",
    "            if counter < 100:\n",
    "                list2 = line2.split()\n",
    "                fb = list2[-4]\n",
    "                if fb in fd:\n",
    "                    list2[-4]=fd[fb]\n",
    "                    f3.write('\\t'.join(list2) + '\\n')\n",
    "                elif none== True:\n",
    "                    list2[-4]= 'None'\n",
    "                    f3.write('\\t'.join(list2) + '\\n') \n",
    "                else :\n",
    "                    pass\n",
    "            counter += 1\n",
    "    f1.close()\n",
    "    f2.close()\n",
    "    f3.close()\n",
    "    return\n",
    "\n",
    "\n",
    "\n",
    "   \n",
    "    \n",
    "        \n",
    "             \n",
    "\n",
    "                \n",
    "        \n",
    "\n",
    "            \n",
    "        \n",
    "        "
   ]
  },
  {
   "cell_type": "code",
   "execution_count": 8,
   "metadata": {},
   "outputs": [],
   "source": [
    "mapper(f_mapping, f_ctab)"
   ]
  },
  {
   "cell_type": "code",
   "execution_count": 9,
   "metadata": {},
   "outputs": [],
   "source": [
    "mapper(f_mapping, f_ctab, none = True)"
   ]
  },
  {
   "cell_type": "markdown",
   "metadata": {},
   "source": []
  }
 ],
 "metadata": {
  "kernelspec": {
   "display_name": "Python 3",
   "language": "python",
   "name": "python3"
  },
  "language_info": {
   "codemirror_mode": {
    "name": "ipython",
    "version": 3
   },
   "file_extension": ".py",
   "mimetype": "text/x-python",
   "name": "python",
   "nbconvert_exporter": "python",
   "pygments_lexer": "ipython3",
   "version": "3.6.10"
  }
 },
 "nbformat": 4,
 "nbformat_minor": 4
}
