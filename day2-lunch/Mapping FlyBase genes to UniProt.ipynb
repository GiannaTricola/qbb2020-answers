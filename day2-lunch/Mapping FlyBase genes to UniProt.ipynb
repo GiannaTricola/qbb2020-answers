{
 "cells": [
  {
   "cell_type": "code",
   "execution_count": 46,
   "metadata": {},
   "outputs": [],
   "source": [
    "fs = open('../../qbb2020-answers/day2-lunch/fly.txt', 'r')\n",
    "fn = open('../../qbb2020-answers/day2-lunch/ID.txt', 'w')\n",
    "string= 'DROME'\n",
    "string2 = 'FBgn'\n",
    "ID = {}\n",
    "for line in fs:\n",
    "    if string not in line:\n",
    "        continue\n",
    "    if string2 not in line:\n",
    "        continue\n",
    "    fields = line.rstrip().split()\n",
    "    uni = fields[2]\n",
    "    fb = fields[3]\n",
    "    ID[fb] = uni\n",
    "for fb, uni in ID.items():\n",
    "    fn.write(str(fb)+ '\\t' + str(uni) + '\\n')\n",
    "\n",
    "   \n",
    "        \n",
    "  \n",
    "\n",
    "\n",
    "\n"
   ]
  },
  {
   "cell_type": "code",
   "execution_count": 53,
   "metadata": {},
   "outputs": [],
   "source": [
    "f1 = open('../../qbb2020-answers/day2-lunch/ID.txt', 'r')\n",
    "f2 = open('../../data/results/stringtie/SRR072893/t_data.ctab', 'r')\n",
    "\n",
    "def mapper(f1, f2, gene_id):\n",
    "    f1d = {}\n",
    "    for line in f1:\n",
    "        (fb, uni) = line.split('/t')\n",
    "        f1d[fb] = uni\n",
    "    print(f1d)\n",
    "        \n",
    "\n",
    "            \n",
    "        \n",
    "        "
   ]
  },
  {
   "cell_type": "code",
   "execution_count": null,
   "metadata": {},
   "outputs": [],
   "source": []
  }
 ],
 "metadata": {
  "kernelspec": {
   "display_name": "Python 3",
   "language": "python",
   "name": "python3"
  },
  "language_info": {
   "codemirror_mode": {
    "name": "ipython",
    "version": 3
   },
   "file_extension": ".py",
   "mimetype": "text/x-python",
   "name": "python",
   "nbconvert_exporter": "python",
   "pygments_lexer": "ipython3",
   "version": "3.6.10"
  }
 },
 "nbformat": 4,
 "nbformat_minor": 4
}
