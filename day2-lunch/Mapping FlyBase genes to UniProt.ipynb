{
 "cells": [
  {
   "cell_type": "code",
   "execution_count": 1,
   "metadata": {},
   "outputs": [],
   "source": [
    "fs = open('../../qbb2020-answers/day2-lunch/fly.txt', 'r')\n",
    "fn = open('../../qbb2020-answers/day2-lunch/ID.txt', 'w')\n",
    "string= 'DROME'\n",
    "string2 = 'FBgn'\n",
    "ID = {}\n",
    "for line in fs:\n",
    "    if string not in line:\n",
    "        continue\n",
    "    if string2 not in line:\n",
    "        continue\n",
    "    fields = line.rstrip().split()\n",
    "    uni = fields[2]\n",
    "    fb = fields[3]\n",
    "    ID[fb] = uni\n",
    "\n",
    "for fb, uni in ID.items():\n",
    "    fn.write(str(fb)+ '\\t' + str(uni) + '\\n')\n",
    "\n",
    "   \n",
    "        \n",
    "  \n",
    "\n",
    "\n",
    "\n"
   ]
  },
  {
   "cell_type": "code",
   "execution_count": 8,
   "metadata": {},
   "outputs": [
    {
     "name": "stdout",
     "output_type": "stream",
     "text": [
      "['FBgn0030087', 'Q9W391']\n"
     ]
    },
    {
     "ename": "IndexError",
     "evalue": "list assignment index out of range",
     "output_type": "error",
     "traceback": [
      "\u001b[0;31m---------------------------------------------------------------------------\u001b[0m",
      "\u001b[0;31mIndexError\u001b[0m                                Traceback (most recent call last)",
      "\u001b[0;32m<ipython-input-8-80de88af451f>\u001b[0m in \u001b[0;36m<module>\u001b[0;34m()\u001b[0m\n\u001b[1;32m     14\u001b[0m         \u001b[0;31m#print(fb)\u001b[0m\u001b[0;34m\u001b[0m\u001b[0;34m\u001b[0m\u001b[0;34m\u001b[0m\u001b[0m\n\u001b[1;32m     15\u001b[0m         \u001b[0;32mif\u001b[0m \u001b[0mfb\u001b[0m \u001b[0;32min\u001b[0m \u001b[0mfd\u001b[0m\u001b[0;34m:\u001b[0m\u001b[0;34m\u001b[0m\u001b[0;34m\u001b[0m\u001b[0m\n\u001b[0;32m---> 16\u001b[0;31m              \u001b[0mlist2\u001b[0m\u001b[0;34m[\u001b[0m\u001b[0;36m2\u001b[0m\u001b[0;34m]\u001b[0m \u001b[0;34m=\u001b[0m \u001b[0mfd\u001b[0m\u001b[0;34m[\u001b[0m\u001b[0mfb\u001b[0m\u001b[0;34m]\u001b[0m\u001b[0;34m\u001b[0m\u001b[0;34m\u001b[0m\u001b[0m\n\u001b[0m\u001b[1;32m     17\u001b[0m \u001b[0;34m\u001b[0m\u001b[0m\n\u001b[1;32m     18\u001b[0m \u001b[0;34m\u001b[0m\u001b[0m\n",
      "\u001b[0;31mIndexError\u001b[0m: list assignment index out of range"
     ]
    }
   ],
   "source": [
    "f1 = open('../../qbb2020-answers/day2-lunch/ID.txt', 'r')\n",
    "f2 = open('../../data/results/stringtie/SRR072893/t_data.ctab', 'r')\n",
    "\n",
    "#def mapper(f1, f2):\n",
    "fd = {}\n",
    "for line in f1:\n",
    "    list1= line.split()\n",
    "    fd[list1[0]] = list1[1]\n",
    "for line2 in f2:\n",
    "    if 'FBgn' in line2:\n",
    "        list2 = line.split()\n",
    "        print(list2)\n",
    "        fb= list2[0]\n",
    "        #print(fb)\n",
    "        if fb in fd:\n",
    "             list2[0] = fd[fb]\n",
    "                \n",
    "\n",
    "                \n",
    "        \n",
    "\n",
    "            \n",
    "        \n",
    "        "
   ]
  },
  {
   "cell_type": "code",
   "execution_count": null,
   "metadata": {},
   "outputs": [],
   "source": []
  }
 ],
 "metadata": {
  "kernelspec": {
   "display_name": "Python 3",
   "language": "python",
   "name": "python3"
  },
  "language_info": {
   "codemirror_mode": {
    "name": "ipython",
    "version": 3
   },
   "file_extension": ".py",
   "mimetype": "text/x-python",
   "name": "python",
   "nbconvert_exporter": "python",
   "pygments_lexer": "ipython3",
   "version": "3.6.10"
  }
 },
 "nbformat": 4,
 "nbformat_minor": 4
}
