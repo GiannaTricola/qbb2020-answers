{
 "cells": [
  {
   "cell_type": "markdown",
   "metadata": {},
   "source": [
    "## Learning objectives\n",
    "\n",
    "\n",
    "1. Understanding dictionaries\n",
    "\n",
    "2. Nesting data structures\n",
    "\n",
    "3. Copying data structures\n",
    "\n",
    "4. Using dictionary methods to access data\n",
    "\n",
    "5. Applying data structures to solving bioinformatics problems\n",
    "\n",
    "---\n",
    "\n",
    "\n",
    "\n",
    "\n",
    "## Using dictionary\n",
    "\n",
    "\n"
   ]
  },
  {
   "cell_type": "code",
   "execution_count": 1,
   "metadata": {},
   "outputs": [
    {
     "name": "stdout",
     "output_type": "stream",
     "text": [
      "a\n",
      "b\n"
     ]
    }
   ],
   "source": [
    "A = ['a', 'b']\n",
    "for i in A:\n",
    "    print(i)"
   ]
  },
  {
   "cell_type": "code",
   "execution_count": 2,
   "metadata": {},
   "outputs": [
    {
     "name": "stdout",
     "output_type": "stream",
     "text": [
      "0\n",
      "1\n",
      "2\n"
     ]
    }
   ],
   "source": [
    "A = range(3)\n",
    "\n",
    "for i in A:\n",
    "    print(i)"
   ]
  },
  {
   "cell_type": "code",
   "execution_count": 4,
   "metadata": {},
   "outputs": [
    {
     "name": "stdout",
     "output_type": "stream",
     "text": [
      "{'A': 1, 'B': 2, 'C': 3}\n"
     ]
    }
   ],
   "source": [
    "D = {}\n",
    "D['A'] = 1\n",
    "D['B'] = 2\n",
    "D['C'] = 3\n",
    "print(D)"
   ]
  },
  {
   "cell_type": "code",
   "execution_count": 6,
   "metadata": {},
   "outputs": [
    {
     "name": "stdout",
     "output_type": "stream",
     "text": [
      "{'A': 1, 'B': 2, 'C': 3, 'D': 4}\n"
     ]
    }
   ],
   "source": [
    "D.setdefault('D', 4)\n",
    "D.setdefault('A', 3)\n",
    "print(D)"
   ]
  },
  {
   "cell_type": "code",
   "execution_count": 8,
   "metadata": {},
   "outputs": [
    {
     "name": "stdout",
     "output_type": "stream",
     "text": [
      "{1: 1, 2: 2, 3: 1, 4: 1, 5: 1}\n"
     ]
    }
   ],
   "source": [
    "A= [1,2,2,3,4,5]\n",
    "D= {}\n",
    "for i in A:\n",
    "    D.setdefault(i, 0)\n",
    "    D[i] +=1\n",
    "print(D)"
   ]
  },
  {
   "cell_type": "code",
   "execution_count": 11,
   "metadata": {},
   "outputs": [
    {
     "data": {
      "text/plain": [
       "1"
      ]
     },
     "execution_count": 11,
     "metadata": {},
     "output_type": "execute_result"
    }
   ],
   "source": [
    "D.get(6, -1)\n",
    "D.get(5, -1)"
   ]
  },
  {
   "cell_type": "code",
   "execution_count": 12,
   "metadata": {
    "format": "row",
    "scrolled": true
   },
   "outputs": [
    {
     "name": "stdout",
     "output_type": "stream",
     "text": [
      "{1: 1, 2: 2, 3: 1, 4: 1, 5: 1, (1, 0): 1, (1, 1): 2}\n"
     ]
    }
   ],
   "source": [
    "D[(1, 0)] = 1\n",
    "D[(1, 1)] = 2\n",
    "print(D)"
   ]
  },
  {
   "cell_type": "code",
   "execution_count": 14,
   "metadata": {
    "scrolled": true
   },
   "outputs": [
    {
     "ename": "KeyError",
     "evalue": "1",
     "output_type": "error",
     "traceback": [
      "\u001b[0;31m---------------------------------------------------------------------------\u001b[0m",
      "\u001b[0;31mKeyError\u001b[0m                                  Traceback (most recent call last)",
      "\u001b[0;32m<ipython-input-14-cd13e5e5a2de>\u001b[0m in \u001b[0;36m<module>\u001b[0;34m()\u001b[0m\n\u001b[0;32m----> 1\u001b[0;31m \u001b[0mv\u001b[0m \u001b[0;34m=\u001b[0m \u001b[0mD\u001b[0m\u001b[0;34m.\u001b[0m\u001b[0mpop\u001b[0m\u001b[0;34m(\u001b[0m\u001b[0;36m1\u001b[0m\u001b[0;34m)\u001b[0m\u001b[0;34m\u001b[0m\u001b[0;34m\u001b[0m\u001b[0m\n\u001b[0m\u001b[1;32m      2\u001b[0m \u001b[0mprint\u001b[0m\u001b[0;34m(\u001b[0m\u001b[0mv\u001b[0m\u001b[0;34m)\u001b[0m\u001b[0;34m\u001b[0m\u001b[0;34m\u001b[0m\u001b[0m\n\u001b[1;32m      3\u001b[0m \u001b[0mprint\u001b[0m\u001b[0;34m(\u001b[0m\u001b[0mD\u001b[0m\u001b[0;34m)\u001b[0m\u001b[0;34m\u001b[0m\u001b[0;34m\u001b[0m\u001b[0m\n",
      "\u001b[0;31mKeyError\u001b[0m: 1"
     ]
    }
   ],
   "source": [
    "v = D.pop(1)\n",
    "print(v)\n"
   ]
  },
  {
   "cell_type": "code",
   "execution_count": null,
   "metadata": {},
   "outputs": [],
   "source": []
  },
  {
   "cell_type": "markdown",
   "metadata": {},
   "source": [
    "## Combining tuples and lists\n",
    "\n",
    "\n"
   ]
  },
  {
   "cell_type": "code",
   "execution_count": 15,
   "metadata": {},
   "outputs": [
    {
     "name": "stdout",
     "output_type": "stream",
     "text": [
      "([1, 2, 3], 'A', 'B')\n"
     ]
    }
   ],
   "source": [
    "L = [1,2,3]\n",
    "T1 = (L, 'A', 'B')\n",
    "print(T1)"
   ]
  },
  {
   "cell_type": "code",
   "execution_count": 16,
   "metadata": {},
   "outputs": [
    {
     "name": "stdout",
     "output_type": "stream",
     "text": [
      "([5, 2, 3], 'A', 'B')\n"
     ]
    }
   ],
   "source": [
    "L[0] = 5\n",
    "print(T1)"
   ]
  },
  {
   "cell_type": "code",
   "execution_count": null,
   "metadata": {},
   "outputs": [],
   "source": []
  },
  {
   "cell_type": "code",
   "execution_count": 0,
   "metadata": {
    "format": "row",
    "scrolled": true
   },
   "outputs": [],
   "source": []
  },
  {
   "cell_type": "markdown",
   "metadata": {},
   "source": [
    "## Shallow and deep copy\n",
    "\n",
    "\n"
   ]
  },
  {
   "cell_type": "code",
   "execution_count": 17,
   "metadata": {
    "format": "row",
    "scrolled": true
   },
   "outputs": [],
   "source": [
    "T2 = tuple(T1)"
   ]
  },
  {
   "cell_type": "code",
   "execution_count": 18,
   "metadata": {},
   "outputs": [
    {
     "name": "stdout",
     "output_type": "stream",
     "text": [
      "([8, 2, 3], 'A', 'B')\n",
      "([8, 2, 3], 'A', 'B')\n"
     ]
    }
   ],
   "source": [
    "L[0] = 8\n",
    "print(T1)\n",
    "print(T2)"
   ]
  },
  {
   "cell_type": "code",
   "execution_count": 19,
   "metadata": {},
   "outputs": [],
   "source": [
    "import copy"
   ]
  },
  {
   "cell_type": "code",
   "execution_count": 20,
   "metadata": {},
   "outputs": [
    {
     "name": "stdout",
     "output_type": "stream",
     "text": [
      "([9, 2, 3], 'A', 'B')\n",
      "([8, 2, 3], 'A', 'B')\n"
     ]
    }
   ],
   "source": [
    "T2 = copy.deepcopy(T1)\n",
    "L[0] = 9\n",
    "print(T1)\n",
    "print(T2)"
   ]
  },
  {
   "cell_type": "code",
   "execution_count": null,
   "metadata": {},
   "outputs": [],
   "source": []
  },
  {
   "cell_type": "code",
   "execution_count": null,
   "metadata": {},
   "outputs": [],
   "source": []
  },
  {
   "cell_type": "markdown",
   "metadata": {},
   "source": [
    "### Excercise:\n",
    "\n",
    "\n",
    "Create a nested data structure (one data structure as the member of another data structure) and make a deep copy of it. Then alter the nested data structure and print both outer data structures to prove that your deep copy worked.\n",
    "\n",
    "\n"
   ]
  },
  {
   "cell_type": "code",
   "execution_count": 24,
   "metadata": {},
   "outputs": [
    {
     "name": "stdout",
     "output_type": "stream",
     "text": [
      "{'A': 6, 'B': 7, 'C': 8}\n",
      "{'A': [1, 2, 3], 'B': 7, 'C': 8}\n"
     ]
    }
   ],
   "source": [
    "test = {'A': [1,2,3], 'B': 7, 'C': 8}\n",
    "test2= copy.deepcopy(test)\n",
    "test2['A'] = 6\n",
    "print(test2)\n",
    "print(test)"
   ]
  },
  {
   "cell_type": "markdown",
   "metadata": {},
   "source": [
    "## Accessing dictionary items\n",
    "\n",
    "\n"
   ]
  },
  {
   "cell_type": "code",
   "execution_count": 25,
   "metadata": {},
   "outputs": [
    {
     "name": "stdout",
     "output_type": "stream",
     "text": [
      "{2: 2, 3: 1, 4: 1, 5: 1, (1, 0): 1, (1, 1): 2}\n"
     ]
    }
   ],
   "source": [
    "print(D)"
   ]
  },
  {
   "cell_type": "code",
   "execution_count": 26,
   "metadata": {},
   "outputs": [
    {
     "data": {
      "text/plain": [
       "dict_values([2, 1, 1, 1, 1, 2])"
      ]
     },
     "execution_count": 26,
     "metadata": {},
     "output_type": "execute_result"
    }
   ],
   "source": [
    "D.values()"
   ]
  },
  {
   "cell_type": "code",
   "execution_count": 28,
   "metadata": {
    "format": "row",
    "scrolled": true
   },
   "outputs": [
    {
     "data": {
      "text/plain": [
       "dict_keys([2, 3, 4, 5, (1, 0), (1, 1)])"
      ]
     },
     "execution_count": 28,
     "metadata": {},
     "output_type": "execute_result"
    }
   ],
   "source": [
    "D.keys()"
   ]
  },
  {
   "cell_type": "code",
   "execution_count": 29,
   "metadata": {
    "scrolled": true
   },
   "outputs": [
    {
     "data": {
      "text/plain": [
       "dict_items([(2, 2), (3, 1), (4, 1), (5, 1), ((1, 0), 1), ((1, 1), 2)])"
      ]
     },
     "execution_count": 29,
     "metadata": {},
     "output_type": "execute_result"
    }
   ],
   "source": [
    "D.items()"
   ]
  },
  {
   "cell_type": "code",
   "execution_count": 30,
   "metadata": {},
   "outputs": [
    {
     "data": {
      "text/plain": [
       "[(2, 2), (3, 1), (4, 1), (5, 1), ((1, 0), 1), ((1, 1), 2)]"
      ]
     },
     "execution_count": 30,
     "metadata": {},
     "output_type": "execute_result"
    }
   ],
   "source": [
    "list(D.items())"
   ]
  },
  {
   "cell_type": "code",
   "execution_count": 31,
   "metadata": {},
   "outputs": [
    {
     "name": "stdout",
     "output_type": "stream",
     "text": [
      "2\n",
      "3\n",
      "4\n",
      "5\n",
      "(1, 0)\n",
      "(1, 1)\n"
     ]
    }
   ],
   "source": [
    "for key in D.keys():\n",
    "    print(key)"
   ]
  },
  {
   "cell_type": "code",
   "execution_count": 32,
   "metadata": {},
   "outputs": [
    {
     "name": "stdout",
     "output_type": "stream",
     "text": [
      "2 2\n",
      "3 1\n",
      "4 1\n",
      "5 1\n",
      "(1, 0) 1\n",
      "(1, 1) 2\n"
     ]
    }
   ],
   "source": [
    "for key in D.keys():\n",
    "    print(key, D[key])"
   ]
  },
  {
   "cell_type": "code",
   "execution_count": 33,
   "metadata": {},
   "outputs": [
    {
     "name": "stdout",
     "output_type": "stream",
     "text": [
      "2 2\n",
      "3 1\n",
      "4 1\n",
      "5 1\n",
      "(1, 0) 1\n",
      "(1, 1) 2\n"
     ]
    }
   ],
   "source": [
    "for pair in D.items():\n",
    "    key = pair[0]\n",
    "    value = pair[1]\n",
    "    print(key, value)"
   ]
  },
  {
   "cell_type": "code",
   "execution_count": 34,
   "metadata": {},
   "outputs": [
    {
     "name": "stdout",
     "output_type": "stream",
     "text": [
      "2 2\n",
      "3 1\n",
      "4 1\n",
      "5 1\n",
      "(1, 0) 1\n",
      "(1, 1) 2\n"
     ]
    }
   ],
   "source": [
    "for k, v in D.items():\n",
    "    print(k,v)"
   ]
  },
  {
   "cell_type": "code",
   "execution_count": 35,
   "metadata": {},
   "outputs": [
    {
     "name": "stdout",
     "output_type": "stream",
     "text": [
      "a 1\n"
     ]
    }
   ],
   "source": [
    "k, v = ('a', 1)\n",
    "print(k, v)"
   ]
  },
  {
   "cell_type": "code",
   "execution_count": 36,
   "metadata": {},
   "outputs": [
    {
     "name": "stdout",
     "output_type": "stream",
     "text": [
      "a\n"
     ]
    }
   ],
   "source": [
    "print(k)"
   ]
  },
  {
   "cell_type": "code",
   "execution_count": null,
   "metadata": {},
   "outputs": [],
   "source": [
    " #chrom, start, stop = line.split()"
   ]
  },
  {
   "cell_type": "markdown",
   "metadata": {},
   "source": [
    "### Excercise:\n",
    "\n",
    "\n",
    "Write a function that takes in a dictionary and counts the total number of unique tissues and returns a sorted list of these tissues. Then run it on our 'data' dictionary.\n",
    "\n",
    "\n"
   ]
  },
  {
   "cell_type": "code",
   "execution_count": 42,
   "metadata": {
    "format": "row",
    "scrolled": true
   },
   "outputs": [
    {
     "name": "stdout",
     "output_type": "stream",
     "text": [
      "[0, 2, 3, 1, 3, 4]\n",
      "{0, 1, 2, 3, 4}\n",
      "5\n"
     ]
    }
   ],
   "source": [
    "data = {\n",
    "    'A': [0,2,3],\n",
    "    'B':[1],\n",
    "    'C': [3,4],}\n",
    "T = []\n",
    "for t in data.values():\n",
    "    T += t\n",
    "print(T)\n",
    "T = set(T)\n",
    "print(T)\n",
    "print(len(T))\n"
   ]
  },
  {
   "cell_type": "markdown",
   "metadata": {},
   "source": [
    "## Enumerate\n",
    "\n",
    "\n"
   ]
  },
  {
   "cell_type": "code",
   "execution_count": 43,
   "metadata": {},
   "outputs": [
    {
     "name": "stdout",
     "output_type": "stream",
     "text": [
      "0 A\n",
      "1 B\n",
      "2 C\n"
     ]
    }
   ],
   "source": [
    "L = ['A', 'B', 'C']\n",
    "for i, v in enumerate(L):\n",
    "    print(i,v)"
   ]
  },
  {
   "cell_type": "code",
   "execution_count": 0,
   "metadata": {
    "format": "row",
    "scrolled": true
   },
   "outputs": [],
   "source": []
  },
  {
   "cell_type": "markdown",
   "metadata": {},
   "source": [
    "## Counting unique items\n",
    "\n",
    "\n"
   ]
  },
  {
   "cell_type": "code",
   "execution_count": 45,
   "metadata": {
    "format": "row",
    "scrolled": true
   },
   "outputs": [
    {
     "name": "stdout",
     "output_type": "stream",
     "text": [
      "['t_id', 'chr', 'strand', 'start', 'end', 't_name', 'num_exons', 'length', 'gene_id', 'gene_name', 'cov', 'FPKM']\n"
     ]
    }
   ],
   "source": [
    "fs = open('../../data/t_data.ctab', 'r')\n",
    "data = []\n",
    "for line in fs:\n",
    "    data.append(line.rstrip().split('\\t'))\n",
    "fs.close()\n",
    "print(data[0])"
   ]
  },
  {
   "cell_type": "code",
   "execution_count": 46,
   "metadata": {},
   "outputs": [
    {
     "name": "stdout",
     "output_type": "stream",
     "text": [
      "41\n"
     ]
    }
   ],
   "source": [
    "genes = set()\n",
    "for line in data[1:]:\n",
    "    genes.add(line[9])\n",
    "print(len(genes))"
   ]
  },
  {
   "cell_type": "markdown",
   "metadata": {},
   "source": [
    "### Exercise\n",
    "\n",
    "\n",
    "Can you modify the code so that we are only counting unique genes that have at least one transcript with non-zero expression?\n",
    "\n",
    "\n"
   ]
  },
  {
   "cell_type": "code",
   "execution_count": 49,
   "metadata": {
    "format": "row",
    "scrolled": true
   },
   "outputs": [
    {
     "name": "stdout",
     "output_type": "stream",
     "text": [
      "13\n"
     ]
    }
   ],
   "source": [
    "genes = set()\n",
    "for line in data[1:]:\n",
    "    fpkm = float(line[11])\n",
    "    if fpkm > 0:\n",
    "        genes.add(line[9])\n",
    "print(len(genes))"
   ]
  },
  {
   "cell_type": "markdown",
   "metadata": {},
   "source": [
    "## Counting occurences of items\n",
    "\n",
    "\n"
   ]
  },
  {
   "cell_type": "code",
   "execution_count": 54,
   "metadata": {
    "format": "row",
    "scrolled": true
   },
   "outputs": [
    {
     "ename": "SyntaxError",
     "evalue": "invalid syntax (<ipython-input-54-9504db1d6a4a>, line 1)",
     "output_type": "error",
     "traceback": [
      "\u001b[0;36m  File \u001b[0;32m\"<ipython-input-54-9504db1d6a4a>\"\u001b[0;36m, line \u001b[0;32m1\u001b[0m\n\u001b[0;31m    genes= dict{}\u001b[0m\n\u001b[0m               ^\u001b[0m\n\u001b[0;31mSyntaxError\u001b[0m\u001b[0;31m:\u001b[0m invalid syntax\n"
     ]
    }
   ],
   "source": [
    "genes= dict{}\n"
   ]
  },
  {
   "cell_type": "code",
   "execution_count": 60,
   "metadata": {},
   "outputs": [
    {
     "name": "stdout",
     "output_type": "stream",
     "text": [
      "{'CR41571': 1, 'CG45784': 1, 'CR12798': 1, 'CR40182': 1, 'CG45783': 1, 'CR45220': 2, 'spok': 1, 'Parp': 1, 'Alg-2': 1, 'Tim17b': 2, 'CG41128': 1, 'CG41099': 4, 'CG42402': 3, 'Gfat1': 9, 'CR41601': 1, 'CG40198': 2, 'CG12581': 2, 'CR33294': 2, 'Dsk': 1, 'CG12582': 5, 'CG14636': 2, 'aux': 4, 'CG31516': 1, 'DhpD': 1, 'CG14641': 1, 'abs': 1, 'Gel': 7, 'CG14642': 3, 'CG34305': 1, 'TwdlU': 1, 'TwdlF': 1, 'TwdlG': 3, 'CG14644': 2, 'TwdlV': 1, 'Or82a': 1, 'CG1092': 2, 'CG9766': 1, 'CR45597': 1, 'cpx': 21, 'CG9780': 1, 'mir-929': 2}\n"
     ]
    }
   ],
   "source": [
    "genes= {}\n",
    "for line in data[1:]:\n",
    "    gn = line[9]\n",
    "    genes.setdefault(gn, 0)\n",
    "    genes[gn] += 1\n",
    "print(genes)"
   ]
  },
  {
   "cell_type": "markdown",
   "metadata": {},
   "source": [
    "### Exercise\n",
    "\n",
    "\n",
    "Given our set of genes and transcript counts, can you figure out which gene has the most transcripts and how many transcripts that is?\n",
    "\n",
    "\n"
   ]
  },
  {
   "cell_type": "code",
   "execution_count": 61,
   "metadata": {
    "format": "row",
    "scrolled": true
   },
   "outputs": [
    {
     "name": "stdout",
     "output_type": "stream",
     "text": [
      " 21\n"
     ]
    }
   ],
   "source": [
    "max_fpkm = 0\n",
    "best_gene = ''\n",
    "max_fpkm = max(genes.values())\n",
    "for k, v in genes.items():\n",
    "    if v > max_fpkm:\n",
    "        max_fpkm = v\n",
    "        best_gene = k\n",
    "print(best_gene, max_fpkm)"
   ]
  },
  {
   "cell_type": "markdown",
   "metadata": {},
   "source": [
    "## Filtering input to targets of interest\n",
    "\n",
    "\n"
   ]
  },
  {
   "cell_type": "code",
   "execution_count": 63,
   "metadata": {
    "format": "row",
    "scrolled": true
   },
   "outputs": [
    {
     "name": "stdout",
     "output_type": "stream",
     "text": [
      "{'Gfat1', 'Gel', 'CG45784', 'CG12582', 'mir-929', 'CG42402', 'CR45597', 'CR40182', 'Dsk', 'TwdlG', 'CR41601', 'Alg-2', 'CG9780', 'DhpD', 'CG14641'}\n"
     ]
    }
   ],
   "source": [
    "genes_of_i = set()\n",
    "for line in open('../../data/genes_of_interest.txt', 'r'):\n",
    "    genes_of_i.add(line.rstrip())\n",
    "print(genes_of_i)"
   ]
  },
  {
   "cell_type": "code",
   "execution_count": 65,
   "metadata": {},
   "outputs": [
    {
     "name": "stdout",
     "output_type": "stream",
     "text": [
      "{'CG45784': 1, 'CR40182': 1, 'Alg-2': 1, 'CG42402': 3, 'Gfat1': 9, 'CR41601': 1, 'Dsk': 1, 'CG12582': 5, 'DhpD': 1, 'CG14641': 1, 'Gel': 7, 'TwdlG': 3, 'CR45597': 1, 'CG9780': 1, 'mir-929': 2}\n"
     ]
    }
   ],
   "source": [
    "genes= {}\n",
    "for line in data[1:]:\n",
    "    gn = line[9]\n",
    "    if gn not in genes_of_i:\n",
    "        continue\n",
    "    genes.setdefault(gn, 0)\n",
    "    genes[gn] += 1\n",
    "print(genes)"
   ]
  },
  {
   "cell_type": "markdown",
   "metadata": {},
   "source": [
    "### Exercise\n",
    "\n",
    "\n",
    "Can you modify the code to remove genes that have fewer than three transcripts (using all genes, not just the genes of interest)?\n",
    "\n",
    "\n"
   ]
  },
  {
   "cell_type": "code",
   "execution_count": 66,
   "metadata": {
    "format": "row",
    "scrolled": true
   },
   "outputs": [
    {
     "name": "stdout",
     "output_type": "stream",
     "text": [
      "{'CG41099': 4, 'CG42402': 3, 'Gfat1': 9, 'CG12582': 5, 'aux': 4, 'Gel': 7, 'CG14642': 3, 'TwdlG': 3, 'cpx': 21}\n"
     ]
    }
   ],
   "source": [
    "genes= {}\n",
    "for line in data[1:]:\n",
    "    gn = line[9]\n",
    "    genes.setdefault(gn, 0)\n",
    "    genes[gn] += 1\n",
    "keys = list(genes.keys())\n",
    "for k in keys:\n",
    "    if genes[k] < 3:\n",
    "        del genes[k]\n",
    "print(genes)"
   ]
  },
  {
   "cell_type": "markdown",
   "metadata": {},
   "source": [
    "## Applying approaches to data analysis\n",
    "\n",
    "\n"
   ]
  },
  {
   "cell_type": "code",
   "execution_count": 70,
   "metadata": {
    "format": "row",
    "scrolled": true
   },
   "outputs": [
    {
     "ename": "IndexError",
     "evalue": "list index out of range",
     "output_type": "error",
     "traceback": [
      "\u001b[0;31m---------------------------------------------------------------------------\u001b[0m",
      "\u001b[0;31mIndexError\u001b[0m                                Traceback (most recent call last)",
      "\u001b[0;32m<ipython-input-70-60a686397f73>\u001b[0m in \u001b[0;36m<module>\u001b[0;34m()\u001b[0m\n\u001b[1;32m      7\u001b[0m         \u001b[0mfpkms\u001b[0m\u001b[0;34m.\u001b[0m\u001b[0mappend\u001b[0m\u001b[0;34m(\u001b[0m\u001b[0mfloat\u001b[0m\u001b[0;34m(\u001b[0m\u001b[0mline\u001b[0m\u001b[0;34m[\u001b[0m\u001b[0;36m11\u001b[0m\u001b[0;34m]\u001b[0m\u001b[0;34m)\u001b[0m\u001b[0;34m)\u001b[0m\u001b[0;34m\u001b[0m\u001b[0;34m\u001b[0m\u001b[0m\n\u001b[1;32m      8\u001b[0m     \u001b[0;32mreturn\u001b[0m \u001b[0mfpkms\u001b[0m\u001b[0;34m\u001b[0m\u001b[0;34m\u001b[0m\u001b[0m\n\u001b[0;32m----> 9\u001b[0;31m \u001b[0mfpkms1\u001b[0m \u001b[0;34m=\u001b[0m \u001b[0mread_fpkm\u001b[0m\u001b[0;34m(\u001b[0m\u001b[0;34m'/Users/cmdb/data/results/SRR072893.t_data.ctab'\u001b[0m\u001b[0;34m)\u001b[0m\u001b[0;34m\u001b[0m\u001b[0;34m\u001b[0m\u001b[0m\n\u001b[0m",
      "\u001b[0;32m<ipython-input-70-60a686397f73>\u001b[0m in \u001b[0;36mread_fpkm\u001b[0;34m(fname)\u001b[0m\n\u001b[1;32m      5\u001b[0m         \u001b[0;32mif\u001b[0m \u001b[0mline\u001b[0m\u001b[0;34m[\u001b[0m\u001b[0;36m0\u001b[0m\u001b[0;34m]\u001b[0m \u001b[0;34m==\u001b[0m \u001b[0;34m't_id'\u001b[0m\u001b[0;34m:\u001b[0m\u001b[0;34m\u001b[0m\u001b[0;34m\u001b[0m\u001b[0m\n\u001b[1;32m      6\u001b[0m             \u001b[0;32mcontinue\u001b[0m\u001b[0;34m\u001b[0m\u001b[0;34m\u001b[0m\u001b[0m\n\u001b[0;32m----> 7\u001b[0;31m         \u001b[0mfpkms\u001b[0m\u001b[0;34m.\u001b[0m\u001b[0mappend\u001b[0m\u001b[0;34m(\u001b[0m\u001b[0mfloat\u001b[0m\u001b[0;34m(\u001b[0m\u001b[0mline\u001b[0m\u001b[0;34m[\u001b[0m\u001b[0;36m11\u001b[0m\u001b[0;34m]\u001b[0m\u001b[0;34m)\u001b[0m\u001b[0;34m)\u001b[0m\u001b[0;34m\u001b[0m\u001b[0;34m\u001b[0m\u001b[0m\n\u001b[0m\u001b[1;32m      8\u001b[0m     \u001b[0;32mreturn\u001b[0m \u001b[0mfpkms\u001b[0m\u001b[0;34m\u001b[0m\u001b[0;34m\u001b[0m\u001b[0m\n\u001b[1;32m      9\u001b[0m \u001b[0mfpkms1\u001b[0m \u001b[0;34m=\u001b[0m \u001b[0mread_fpkm\u001b[0m\u001b[0;34m(\u001b[0m\u001b[0;34m'/Users/cmdb/data/results/SRR072893.t_data.ctab'\u001b[0m\u001b[0;34m)\u001b[0m\u001b[0;34m\u001b[0m\u001b[0;34m\u001b[0m\u001b[0m\n",
      "\u001b[0;31mIndexError\u001b[0m: list index out of range"
     ]
    }
   ],
   "source": [
    "def read_fpkm(fname):\n",
    "    fpkms = []\n",
    "    for line in open(fname):\n",
    "        line = line.rstrip().split('\\t')\n",
    "        if line[0] == 't_id':\n",
    "            continue\n",
    "        fpkms.append(float(line[11]))\n",
    "    return fpkms\n",
    "fpkms1 = read_fpkm('/Users/cmdb/data/results/')"
   ]
  },
  {
   "cell_type": "markdown",
   "metadata": {},
   "source": [
    "### Exercise\n",
    "\n",
    "\n",
    "Rewrite our function to find maximum FPKM per gene and return a dictionary keyed by gene names with maximum FPKM values.\n",
    "\n",
    "\n"
   ]
  },
  {
   "cell_type": "code",
   "execution_count": 0,
   "metadata": {
    "format": "row",
    "scrolled": true
   },
   "outputs": [],
   "source": [
    "def read_fpkms_from_t_data(fname):\n",
    "    fpkms = {}\n",
    "    for i, line in enumerate(open(fname)):\n",
    "        if i == 0:\n",
    "            continue\n",
    "        fields = line.rstrip().split('\\t')\n",
    "        transcript = fields[0]\n",
    "        fpkm = float(fields[11])\n",
    "        fpkms[transcript] = fpkm\n",
    "    return fpkms"
   ]
  }
 ],
 "metadata": {
  "kernelspec": {
   "display_name": "Python 3",
   "language": "python",
   "name": "python3"
  },
  "language_info": {
   "codemirror_mode": {
    "name": "ipython",
    "version": 3
   },
   "file_extension": ".py",
   "mimetype": "text/x-python",
   "name": "python",
   "nbconvert_exporter": "python",
   "pygments_lexer": "ipython3",
   "version": "3.6.10"
  },
  "toc": {
   "base_numbering": 1,
   "nav_menu": {},
   "number_sections": false,
   "sideBar": true,
   "skip_h1_title": false,
   "title_cell": "Table of Contents",
   "title_sidebar": "Contents",
   "toc_cell": false,
   "toc_postion": {},
   "toc_section_display": true,
   "toc_window_display": true
  }
 },
 "nbformat": 4,
 "nbformat_minor": 4
}
