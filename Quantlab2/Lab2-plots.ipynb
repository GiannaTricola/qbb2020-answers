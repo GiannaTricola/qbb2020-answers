{
 "cells": [
  {
   "cell_type": "code",
   "execution_count": 273,
   "metadata": {},
   "outputs": [],
   "source": [
    "import numpy as np\n",
    "import matplotlib.pyplot as plt\n",
    "import pandas as pd\n"
   ]
  },
  {
   "cell_type": "code",
   "execution_count": 264,
   "metadata": {
    "scrolled": true
   },
   "outputs": [],
   "source": [
    "file = open('eff.vcf', 'r')\n",
    "depth = []\n",
    "for line in file:\n",
    "    if line[0] is '#':\n",
    "        continue\n",
    "    else:\n",
    "        form = line.rstrip().split(':')\n",
    "        DP = form[10]\n",
    "        if DP == '.':\n",
    "            continue\n",
    "        else:\n",
    "            DP=float(DP)\n",
    "            depth.append(DP)\n",
    "file.close()   \n",
    "#print(depth)\n"
   ]
  },
  {
   "cell_type": "code",
   "execution_count": 265,
   "metadata": {},
   "outputs": [],
   "source": [
    "file = open('eff.vcf', 'r')\n",
    "qual = []\n",
    "for line in file:\n",
    "    if line[0] is '#':\n",
    "        continue\n",
    "    else:\n",
    "        form2 = line.rstrip().split(':')\n",
    "        GQ = form2[9]\n",
    "        if GQ == '.':\n",
    "            continue\n",
    "        else:\n",
    "            GQ = float(GQ)\n",
    "            qual.append(GQ)\n",
    "#print(qual)\n",
    "file.close()"
   ]
  },
  {
   "cell_type": "code",
   "execution_count": 266,
   "metadata": {},
   "outputs": [],
   "source": [
    "file = open('eff.vcf', 'r')\n",
    "af = []\n",
    "for line in file:\n",
    "    if line[0] is '#':\n",
    "        continue\n",
    "    else:\n",
    "        info = line.rstrip().split(';')\n",
    "        AF = (info[3][3:])\n",
    "        af.append(AF)\n",
    "#print(len(af))\n",
    "af2 = []\n",
    "for item in af:\n",
    "    if ',' in item:\n",
    "        sep = item.split(',')\n",
    "        val1 = float(sep[0])\n",
    "        val2 = float(sep[1])\n",
    "        af2.append(val1)\n",
    "        af2.append(val2)           \n",
    "    else:\n",
    "        val3 = float(item)\n",
    "        af2.append(val3)\n",
    "#print(af2)             \n",
    "file.close()"
   ]
  },
  {
   "cell_type": "code",
   "execution_count": 270,
   "metadata": {},
   "outputs": [
    {
     "data": {
      "text/plain": [
       "3.0      6657\n",
       "4.0      6539\n",
       "2.0      5886\n",
       "5.0      5451\n",
       "6.0      4222\n",
       "         ... \n",
       "62.0        1\n",
       "64.0        1\n",
       "65.0        1\n",
       "66.0        1\n",
       "488.0       1\n",
       "Length: 77, dtype: int64"
      ]
     },
     "execution_count": 270,
     "metadata": {},
     "output_type": "execute_result"
    }
   ],
   "source": [
    "df_depth = pd.DataFrame(depth)\n",
    "df_depth\n",
    "dfc = df_depth.value_counts()\n",
    "dfc"
   ]
  },
  {
   "cell_type": "code",
   "execution_count": 271,
   "metadata": {},
   "outputs": [
    {
     "data": {
      "text/plain": [
       " 160.0020    2798\n",
       "-0.0000        16\n",
       " 141.8330      11\n",
       " 145.5660      11\n",
       " 142.9660      10\n",
       "             ... \n",
       " 93.4477        1\n",
       " 93.4519        1\n",
       " 93.4555        1\n",
       " 93.4585        1\n",
       " 81.1086        1\n",
       "Length: 31263, dtype: int64"
      ]
     },
     "execution_count": 271,
     "metadata": {},
     "output_type": "execute_result"
    }
   ],
   "source": [
    "df_qual = pd.DataFrame(qual)\n",
    "df_qual\n",
    "dfq = df_qual.value_counts()\n",
    "dfq"
   ]
  },
  {
   "cell_type": "code",
   "execution_count": 287,
   "metadata": {},
   "outputs": [
    {
     "data": {
      "text/plain": [
       "0.500000    7548\n",
       "0.400000    7476\n",
       "0.600000    5826\n",
       "0.300000    3633\n",
       "0.700000    3213\n",
       "0.444444    2048\n",
       "0.555556    1770\n",
       "0.333333    1733\n",
       "0.200000    1654\n",
       "0.666667    1197\n",
       "0.800000    1160\n",
       "1.000000     750\n",
       "0.375000     640\n",
       "0.222222     615\n",
       "0.625000     495\n",
       "0.100000     434\n",
       "0.777778     432\n",
       "0.250000     342\n",
       "0.428571     287\n",
       "0.285714     272\n",
       "0.571429     260\n",
       "0.750000     255\n",
       "0.111111     137\n",
       "0.714286     120\n",
       "0.000000      67\n",
       "0.888889      55\n",
       "0.875000      51\n",
       "0.125000      41\n",
       "0.857143      36\n",
       "0.142857      31\n",
       "0.166667      30\n",
       "0.833333      17\n",
       "0.900000      14\n",
       "0.666666       1\n",
       "0.777777       1\n",
       "dtype: int64"
      ]
     },
     "execution_count": 287,
     "metadata": {},
     "output_type": "execute_result"
    }
   ],
   "source": [
    "df_af = pd.DataFrame(af2)\n",
    "df_af\n",
    "afc = df_af.value_counts()\n",
    "afc"
   ]
  },
  {
   "cell_type": "code",
   "execution_count": 289,
   "metadata": {},
   "outputs": [
    {
     "data": {
      "image/png": "[encoded data removed]",
      "text/plain": [
       "<Figure size 360x720 with 3 Axes>"
      ]
     },
     "metadata": {
      "needs_background": "light"
     },
     "output_type": "display_data"
    }
   ],
   "source": [
    "fig, ax = plt.subplots(3, figsize = (5 , 10))\n",
    "ax[0].hist(x = dfc)\n",
    "ax[1].hist(df_qual.iloc[:, 0])\n",
    "ax[2].hist(x = afc)\n",
    "fig.tight_layout()\n",
    "plt.show()"
   ]
  },
  {
   "cell_type": "code",
   "execution_count": null,
   "metadata": {},
   "outputs": [],
   "source": []
  }
 ],
 "metadata": {
  "kernelspec": {
   "display_name": "Python 3",
   "language": "python",
   "name": "python3"
  },
  "language_info": {
   "codemirror_mode": {
    "name": "ipython",
    "version": 3
   },
   "file_extension": ".py",
   "mimetype": "text/x-python",
   "name": "python",
   "nbconvert_exporter": "python",
   "pygments_lexer": "ipython3",
   "version": "3.6.10"
  }
 },
 "nbformat": 4,
 "nbformat_minor": 4
}
