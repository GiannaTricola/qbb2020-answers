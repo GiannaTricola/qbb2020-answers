{
 "cells": [
  {
   "cell_type": "code",
   "execution_count": 153,
   "metadata": {},
   "outputs": [],
   "source": [
    "from fasta_iterator_class import FASTAReader\n",
    "import matplotlib.pyplot as plt\n",
    "import pandas as pd\n",
    "import scipy.stats as scipy\n",
    "import numpy as np"
   ]
  },
  {
   "cell_type": "code",
   "execution_count": 155,
   "metadata": {},
   "outputs": [],
   "source": [
    "new = open('new.fa', 'w')\n",
    "\n",
    "for (seq_id1, seq1), (sed_id2, seq2) in zip(FASTAReader(open('/Users/cmdb/qbb2020-answers/week4/alignment.fa')), FASTAReader(open('/Users/cmdb/qbb2020-answers/week4/query_and_blast.fa'))):\n",
    "    new.write(seq_id1 + '\\n')\n",
    "    new_DNA = ''\n",
    "    j = 0\n",
    "    for i, aa in enumerate(seq1):\n",
    "        if aa == '-':\n",
    "            new_DNA += '---'\n",
    "        else:\n",
    "            new_DNA += seq2[j:(j+3)]\n",
    "            j += 3\n",
    "            if i == len(seq1):\n",
    "                break       \n",
    "    new.write(new_DNA + '\\n')\n",
    "\n",
    "new.close()    "
   ]
  },
  {
   "cell_type": "code",
   "execution_count": 89,
   "metadata": {},
   "outputs": [],
   "source": [
    "sequences = open('new.fa', 'r')\n",
    "test_seq = []\n",
    "counter = 0\n",
    "for line in sequences:\n",
    "    line = line.rstrip('\\n')\n",
    "    if '_' in line:\n",
    "        continue\n",
    "    else: \n",
    "        test_seq.append(line)\n",
    "query = test_seq.pop(0)\n"
   ]
  },
  {
   "cell_type": "code",
   "execution_count": 90,
   "metadata": {},
   "outputs": [],
   "source": [
    "q_c = []\n",
    "codon = ''\n",
    "counter = 0\n",
    "for nuc in query:\n",
    "    codon = codon + nuc\n",
    "    counter +=1\n",
    "    if counter%3 == 0:\n",
    "        q_c.append(codon)\n",
    "        codon = ''\n",
    "#print(q_c)"
   ]
  },
  {
   "cell_type": "code",
   "execution_count": 33,
   "metadata": {},
   "outputs": [],
   "source": [
    "#print(q_c)"
   ]
  },
  {
   "cell_type": "code",
   "execution_count": 8,
   "metadata": {},
   "outputs": [],
   "source": [
    "codontable = {\n",
    "'ATA':'I', 'ATC':'I', 'ATT':'I', 'ATG':'M',\n",
    "'ACA':'T', 'ACC':'T', 'ACG':'T', 'ACT':'T',\n",
    "'AAC':'N', 'AAT':'N', 'AAA':'K', 'AAG':'K',\n",
    "'AGC':'S', 'AGT':'S', 'AGA':'R', 'AGG':'R',\n",
    "'CTA':'L', 'CTC':'L', 'CTG':'L', 'CTT':'L',\n",
    "'CCA':'P', 'CCC':'P', 'CCG':'P', 'CCT':'P',\n",
    "'CAC':'H', 'CAT':'H', 'CAA':'Q', 'CAG':'Q',\n",
    "'CGA':'R', 'CGC':'R', 'CGG':'R', 'CGT':'R',\n",
    "'GTA':'V', 'GTC':'V', 'GTG':'V', 'GTT':'V',\n",
    "'GCA':'A', 'GCC':'A', 'GCG':'A', 'GCT':'A',\n",
    "'GAC':'D', 'GAT':'D', 'GAA':'E', 'GAG':'E',\n",
    "'GGA':'G', 'GGC':'G', 'GGG':'G', 'GGT':'G',\n",
    "'TCA':'S', 'TCC':'S', 'TCG':'S', 'TCT':'S',\n",
    "'TTC':'F', 'TTT':'F', 'TTA':'L', 'TTG':'L',\n",
    "'TAC':'Y', 'TAT':'Y', 'TAA':'_', 'TAG':'_',\n",
    "'TGC':'C', 'TGT':'C', 'TGA':'_', 'TGG':'W'\n",
    "}"
   ]
  },
  {
   "cell_type": "code",
   "execution_count": 91,
   "metadata": {},
   "outputs": [],
   "source": [
    "t_c = []\n",
    "codon2 = ''\n",
    "counter2 = 0\n",
    "for seq in test_seq:\n",
    "    new_seq = []\n",
    "    for nuc2 in seq:\n",
    "        codon2 = codon2 + nuc2\n",
    "        counter2+=1\n",
    "        if counter2%3 == 0:\n",
    "            new_seq.append(codon2)\n",
    "            codon2 = ''\n",
    "    t_c.append(new_seq)\n",
    "#print(type(t_c)) \n",
    "#print(t_c[0])\n",
    "#print(t_c[1])"
   ]
  },
  {
   "cell_type": "code",
   "execution_count": 94,
   "metadata": {},
   "outputs": [],
   "source": [
    "#need to figure out why some are only 7136 but will do this for now\n",
    "for seq in t_c:\n",
    "    if len(seq) != 7137:\n",
    "        seq.append('---')"
   ]
  },
  {
   "cell_type": "code",
   "execution_count": 127,
   "metadata": {},
   "outputs": [],
   "source": [
    "codon_l = []\n",
    "dS_l= []\n",
    "dN_l =[]\n",
    "df= pd.DataFrame(columns=['Codon', 'dS', 'dN'])\n",
    "for i, cod in enumerate(q_c):\n",
    "    dS= 0\n",
    "    dN= 0\n",
    "    for seq in t_c:\n",
    "        alt = seq[i]\n",
    "        ref = q_c[i]\n",
    "        if alt == '---' or ref == '---':\n",
    "            continue\n",
    "        elif alt != ref:\n",
    "            if alt not in codontable.keys():\n",
    "                continue\n",
    "            if codontable[alt] == codontable[ref]:\n",
    "                dS +=1\n",
    "            else:\n",
    "                dN +=1\n",
    "        else:\n",
    "            continue\n",
    "    \n",
    "    if dS == 0 or dN == 0:\n",
    "        continue\n",
    "    else:\n",
    "        codon_l.append(i)\n",
    "        dS_l.append(dS)\n",
    "        dN_l.append(dN)\n",
    "  "
   ]
  },
  {
   "cell_type": "code",
   "execution_count": 179,
   "metadata": {
    "scrolled": true
   },
   "outputs": [],
   "source": [
    "df['Codon'] = codon_l\n",
    "df['dS'] = dS_l\n",
    "df['dN'] = dN_l\n",
    "#df"
   ]
  },
  {
   "cell_type": "code",
   "execution_count": 177,
   "metadata": {},
   "outputs": [],
   "source": [
    "df['dN/dS'] = df['dN']/df['dS']\n",
    "#df"
   ]
  },
  {
   "cell_type": "code",
   "execution_count": 168,
   "metadata": {},
   "outputs": [],
   "source": [
    "D = df['dN']-df['dS']\n",
    "df['D'] = D"
   ]
  },
  {
   "cell_type": "code",
   "execution_count": 169,
   "metadata": {},
   "outputs": [],
   "source": [
    "z = scipy.zscore(D)\n",
    "df['z'] = z"
   ]
  },
  {
   "cell_type": "code",
   "execution_count": 178,
   "metadata": {},
   "outputs": [],
   "source": [
    "p = scipy.norm.sf(abs(z))\n",
    "df['p'] = p\n",
    "#df"
   ]
  },
  {
   "cell_type": "code",
   "execution_count": 172,
   "metadata": {},
   "outputs": [],
   "source": [
    "dNdS = df.iloc[:, 3]"
   ]
  },
  {
   "cell_type": "code",
   "execution_count": 173,
   "metadata": {},
   "outputs": [],
   "source": [
    "log = np.log2(dNdS)"
   ]
  },
  {
   "cell_type": "code",
   "execution_count": 176,
   "metadata": {
    "scrolled": true
   },
   "outputs": [],
   "source": [
    "df['log2(dN/dS)'] = log\n",
    "#df"
   ]
  },
  {
   "cell_type": "code",
   "execution_count": 175,
   "metadata": {},
   "outputs": [
    {
     "data": {
      "image/png": "[encoded data removed]",
      "text/plain": [
       "<Figure size 432x288 with 1 Axes>"
      ]
     },
     "metadata": {
      "needs_background": "light"
     },
     "output_type": "display_data"
    }
   ],
   "source": [
    "#this can't be right\n",
    "fig, ax = plt.subplots()\n",
    "ax = plt.scatter(df.iloc[:, 0], df.iloc[:, 5], c = 'orange')\n",
    "plt.xlabel('Codons')\n",
    "plt.ylabel('log2(dN/dS)')\n",
    "significant = df.iloc[:, 4] < 0.05\n",
    "df_sig = df.loc[significant, :]\n",
    "plt.scatter(df_sig.iloc[:, 0], df_sig.iloc[:, 5], c = 'red')\n",
    "plt.show()"
   ]
  },
  {
   "cell_type": "code",
   "execution_count": null,
   "metadata": {},
   "outputs": [],
   "source": []
  }
 ],
 "metadata": {
  "kernelspec": {
   "display_name": "Python 3",
   "language": "python",
   "name": "python3"
  },
  "language_info": {
   "codemirror_mode": {
    "name": "ipython",
    "version": 3
   },
   "file_extension": ".py",
   "mimetype": "text/x-python",
   "name": "python",
   "nbconvert_exporter": "python",
   "pygments_lexer": "ipython3",
   "version": "3.6.10"
  }
 },
 "nbformat": 4,
 "nbformat_minor": 4
}
