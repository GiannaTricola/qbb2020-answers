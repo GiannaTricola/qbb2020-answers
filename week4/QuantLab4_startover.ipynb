{
 "cells": [
  {
   "cell_type": "code",
   "execution_count": 1,
   "metadata": {},
   "outputs": [],
   "source": [
    "from fasta_iterator_class import FASTAReader"
   ]
  },
  {
   "cell_type": "code",
   "execution_count": 155,
   "metadata": {},
   "outputs": [],
   "source": [
    "new = open('new.fa', 'w')\n",
    "\n",
    "for (seq_id1, seq1), (sed_id2, seq2) in zip(FASTAReader(open('/Users/cmdb/qbb2020-answers/week4/alignment.fa')), FASTAReader(open('/Users/cmdb/qbb2020-answers/week4/query_and_blast.fa'))):\n",
    "    new.write(seq_id1 + '\\n')\n",
    "    new_DNA = ''\n",
    "    j = 0\n",
    "    for i, aa in enumerate(seq1):\n",
    "        if aa == '-':\n",
    "            new_DNA += '---'\n",
    "        else:\n",
    "            new_DNA += seq2[j:(j+3)]\n",
    "            j += 3\n",
    "            if i == len(seq1):\n",
    "                break       \n",
    "    new.write(new_DNA + '\\n')\n",
    "\n",
    "new.close()    "
   ]
  },
  {
   "cell_type": "code",
   "execution_count": 170,
   "metadata": {},
   "outputs": [],
   "source": [
    "sequences = open('new.fa', 'r')\n",
    "test_seq = []\n",
    "counter = 0\n",
    "for line in sequences:\n",
    "    if '_' in line:\n",
    "        continue\n",
    "    else:\n",
    "        test_seq.append(line)\n",
    "query = test_seq.pop(0)\n"
   ]
  },
  {
   "cell_type": "code",
   "execution_count": 191,
   "metadata": {},
   "outputs": [
    {
     "name": "stdout",
     "output_type": "stream",
     "text": [
      "7634599\n"
     ]
    }
   ],
   "source": [
    "changes = 0\n",
    "for seq in test_seq:\n",
    "    #print(len(seq))\n",
    "    for i in range(0, 21411):\n",
    "        nt = query[i]\n",
    "        nt2 = seq[i]\n",
    "        if nt == nt2:\n",
    "            continue\n",
    "        else:\n",
    "            changes +=1\n",
    "print(changes)"
   ]
  },
  {
   "cell_type": "code",
   "execution_count": 195,
   "metadata": {},
   "outputs": [],
   "source": [
    "q_c = []\n",
    "codon = ''\n",
    "counter = 0\n",
    "for nuc in query:\n",
    "    codon = codon + nuc\n",
    "    counter +=1\n",
    "    if counter%3 == 0:\n",
    "        q_c.append(codon)\n",
    "        codon = ''\n",
    "#print(q_c)"
   ]
  },
  {
   "cell_type": "code",
   "execution_count": 206,
   "metadata": {},
   "outputs": [
    {
     "name": "stdout",
     "output_type": "stream",
     "text": [
      "7137\n"
     ]
    }
   ],
   "source": [
    "print(len(q_c))"
   ]
  },
  {
   "cell_type": "code",
   "execution_count": 196,
   "metadata": {},
   "outputs": [],
   "source": [
    "codontable = {\n",
    "'ATA':'I', 'ATC':'I', 'ATT':'I', 'ATG':'M',\n",
    "'ACA':'T', 'ACC':'T', 'ACG':'T', 'ACT':'T',\n",
    "'AAC':'N', 'AAT':'N', 'AAA':'K', 'AAG':'K',\n",
    "'AGC':'S', 'AGT':'S', 'AGA':'R', 'AGG':'R',\n",
    "'CTA':'L', 'CTC':'L', 'CTG':'L', 'CTT':'L',\n",
    "'CCA':'P', 'CCC':'P', 'CCG':'P', 'CCT':'P',\n",
    "'CAC':'H', 'CAT':'H', 'CAA':'Q', 'CAG':'Q',\n",
    "'CGA':'R', 'CGC':'R', 'CGG':'R', 'CGT':'R',\n",
    "'GTA':'V', 'GTC':'V', 'GTG':'V', 'GTT':'V',\n",
    "'GCA':'A', 'GCC':'A', 'GCG':'A', 'GCT':'A',\n",
    "'GAC':'D', 'GAT':'D', 'GAA':'E', 'GAG':'E',\n",
    "'GGA':'G', 'GGC':'G', 'GGG':'G', 'GGT':'G',\n",
    "'TCA':'S', 'TCC':'S', 'TCG':'S', 'TCT':'S',\n",
    "'TTC':'F', 'TTT':'F', 'TTA':'L', 'TTG':'L',\n",
    "'TAC':'Y', 'TAT':'Y', 'TAA':'_', 'TAG':'_',\n",
    "'TGC':'C', 'TGT':'C', 'TGA':'_', 'TGG':'W'\n",
    "}"
   ]
  },
  {
   "cell_type": "code",
   "execution_count": 209,
   "metadata": {},
   "outputs": [
    {
     "name": "stdout",
     "output_type": "stream",
     "text": [
      "7137\n"
     ]
    }
   ],
   "source": [
    "q_a = []\n",
    "for cod in q_c:\n",
    "    if cod in codontable.keys():\n",
    "        aa = codontable[cod]\n",
    "        q_a.append(aa)\n",
    "    else:\n",
    "        blank= '-'\n",
    "        q_a.append(blank)\n",
    "print(len(q_a))"
   ]
  },
  {
   "cell_type": "code",
   "execution_count": 225,
   "metadata": {},
   "outputs": [
    {
     "name": "stdout",
     "output_type": "stream",
     "text": [
      "1000\n"
     ]
    }
   ],
   "source": [
    "t_c = []\n",
    "codon2 = ''\n",
    "counter2 = 0\n",
    "for seq in test_seq:\n",
    "    new_seq = []\n",
    "    for nuc2 in seq:\n",
    "        codon2 = codon2 + nuc2\n",
    "        counter2+=1\n",
    "        if counter2%3 == 0:\n",
    "            new_seq.append(codon2)\n",
    "            codon2 = ''\n",
    "    t_c.append(new_seq)\n",
    "#print(type(t_c)) \n",
    "#print(t_c[0])\n",
    "print(len(t_c))"
   ]
  },
  {
   "cell_type": "code",
   "execution_count": 252,
   "metadata": {},
   "outputs": [],
   "source": [
    "codon_changes = 0\n",
    "mut = {}\n",
    "for cod_seq in t_c:\n",
    "    for i in range(0, 7137):\n",
    "        cod1 = q_c[i]\n",
    "        cod2 = cod_seq[i]\n",
    "        if cod1 == cod2:\n",
    "            continue\n",
    "        else:\n",
    "            codon_changes+=1\n",
    "            mut.setdefault(i, '')\n",
    "            counter = 0\n",
    "            if i in mut.keys():\n",
    "                counter +=1\n",
    "                mut[i] = counter\n",
    "                \n",
    "#print(mut.keys())          \n",
    "#print(mut.values())"
   ]
  },
  {
   "cell_type": "code",
   "execution_count": 231,
   "metadata": {},
   "outputs": [
    {
     "name": "stdout",
     "output_type": "stream",
     "text": [
      "1000\n",
      "7137\n"
     ]
    }
   ],
   "source": [
    "t_a = []\n",
    "for seq in t_c:\n",
    "    new_aa = []\n",
    "    for cod in seq:\n",
    "        if cod in codontable.keys():\n",
    "            aa = codontable[cod]\n",
    "            new_aa.append(aa)\n",
    "        else:\n",
    "            new_aa.append('-')\n",
    "    t_a.append(new_aa)\n",
    "print(len(t_a))\n",
    "print(len(t_a[0]))"
   ]
  },
  {
   "cell_type": "code",
   "execution_count": 256,
   "metadata": {},
   "outputs": [],
   "source": [
    "nonsynom = 0\n",
    "nonsynonymous = {}\n",
    "for aa_seq in t_a:\n",
    "    for i in range(0, 7137):\n",
    "        aa1 = q_a[i]\n",
    "        aa2 = aa_seq[i]\n",
    "        if aa1 == aa2:\n",
    "            continue\n",
    "        else:\n",
    "            nonsynonymous.setdefault(i, '')\n",
    "            nonsynom+=1\n",
    "            counter = 0\n",
    "            if i in nonsynonymous.keys():\n",
    "                counter +=1\n",
    "                nonsynonymous[i] = counter\n",
    "#print(nonsynom)            \n",
    "#print(location[0:1000])\n",
    "#print(nonsynonymous.keys())"
   ]
  },
  {
   "cell_type": "code",
   "execution_count": 260,
   "metadata": {},
   "outputs": [
    {
     "name": "stdout",
     "output_type": "stream",
     "text": [
      "{}\n"
     ]
    }
   ],
   "source": [
    "NS = {}\n",
    "syn= {}\n",
    "for k, v in mut.items():\n",
    "    if k in nonsynonymous.keys():\n",
    "        NS.setdefault(k, v)\n",
    "    else:\n",
    "        syn.setdefault(k, v)\n",
    "#print(NS)  \n",
    "print(syn)"
   ]
  },
  {
   "cell_type": "code",
   "execution_count": null,
   "metadata": {},
   "outputs": [],
   "source": []
  }
 ],
 "metadata": {
  "kernelspec": {
   "display_name": "Python 3",
   "language": "python",
   "name": "python3"
  },
  "language_info": {
   "codemirror_mode": {
    "name": "ipython",
    "version": 3
   },
   "file_extension": ".py",
   "mimetype": "text/x-python",
   "name": "python",
   "nbconvert_exporter": "python",
   "pygments_lexer": "ipython3",
   "version": "3.6.10"
  }
 },
 "nbformat": 4,
 "nbformat_minor": 4
}
