{
 "cells": [
  {
   "cell_type": "code",
   "execution_count": 32,
   "metadata": {},
   "outputs": [],
   "source": [
    "import matplotlib.pyplot as plt\n",
    "import pandas as pd\n",
    "import numpy as np"
   ]
  },
  {
   "cell_type": "code",
   "execution_count": 12,
   "metadata": {
    "scrolled": true
   },
   "outputs": [
    {
     "data": {
      "text/html": [
       "<div>\n",
       "<style scoped>\n",
       "    .dataframe tbody tr th:only-of-type {\n",
       "        vertical-align: middle;\n",
       "    }\n",
       "\n",
       "    .dataframe tbody tr th {\n",
       "        vertical-align: top;\n",
       "    }\n",
       "\n",
       "    .dataframe thead th {\n",
       "        text-align: right;\n",
       "    }\n",
       "</style>\n",
       "<table border=\"1\" class=\"dataframe\">\n",
       "  <thead>\n",
       "    <tr style=\"text-align: right;\">\n",
       "      <th></th>\n",
       "      <th>chr19</th>\n",
       "      <th>3197214</th>\n",
       "      <th>3198214</th>\n",
       "      <th>promoter</th>\n",
       "      <th>.</th>\n",
       "      <th>-</th>\n",
       "      <th>0</th>\n",
       "    </tr>\n",
       "  </thead>\n",
       "  <tbody>\n",
       "    <tr>\n",
       "      <th>0</th>\n",
       "      <td>chr19</td>\n",
       "      <td>3197605</td>\n",
       "      <td>3197714</td>\n",
       "      <td>exon</td>\n",
       "      <td>.</td>\n",
       "      <td>-</td>\n",
       "      <td>0</td>\n",
       "    </tr>\n",
       "    <tr>\n",
       "      <th>1</th>\n",
       "      <td>chr19</td>\n",
       "      <td>3197029</td>\n",
       "      <td>3197605</td>\n",
       "      <td>intron</td>\n",
       "      <td>.</td>\n",
       "      <td>-</td>\n",
       "      <td>0</td>\n",
       "    </tr>\n",
       "    <tr>\n",
       "      <th>2</th>\n",
       "      <td>chr19</td>\n",
       "      <td>3196945</td>\n",
       "      <td>3197029</td>\n",
       "      <td>exon</td>\n",
       "      <td>.</td>\n",
       "      <td>-</td>\n",
       "      <td>0</td>\n",
       "    </tr>\n",
       "    <tr>\n",
       "      <th>3</th>\n",
       "      <td>chr19</td>\n",
       "      <td>3075885</td>\n",
       "      <td>3196945</td>\n",
       "      <td>intron</td>\n",
       "      <td>.</td>\n",
       "      <td>-</td>\n",
       "      <td>0</td>\n",
       "    </tr>\n",
       "    <tr>\n",
       "      <th>4</th>\n",
       "      <td>chr19</td>\n",
       "      <td>3075714</td>\n",
       "      <td>3075885</td>\n",
       "      <td>exon</td>\n",
       "      <td>.</td>\n",
       "      <td>-</td>\n",
       "      <td>0</td>\n",
       "    </tr>\n",
       "    <tr>\n",
       "      <th>...</th>\n",
       "      <td>...</td>\n",
       "      <td>...</td>\n",
       "      <td>...</td>\n",
       "      <td>...</td>\n",
       "      <td>...</td>\n",
       "      <td>...</td>\n",
       "      <td>...</td>\n",
       "    </tr>\n",
       "    <tr>\n",
       "      <th>14628</th>\n",
       "      <td>chr19</td>\n",
       "      <td>61225133</td>\n",
       "      <td>61225214</td>\n",
       "      <td>exon</td>\n",
       "      <td>.</td>\n",
       "      <td>-</td>\n",
       "      <td>0</td>\n",
       "    </tr>\n",
       "    <tr>\n",
       "      <th>14629</th>\n",
       "      <td>chr19</td>\n",
       "      <td>61225033</td>\n",
       "      <td>61225133</td>\n",
       "      <td>intron</td>\n",
       "      <td>.</td>\n",
       "      <td>-</td>\n",
       "      <td>0</td>\n",
       "    </tr>\n",
       "    <tr>\n",
       "      <th>14630</th>\n",
       "      <td>chr19</td>\n",
       "      <td>61224402</td>\n",
       "      <td>61225033</td>\n",
       "      <td>exon</td>\n",
       "      <td>.</td>\n",
       "      <td>-</td>\n",
       "      <td>0</td>\n",
       "    </tr>\n",
       "    <tr>\n",
       "      <th>14631</th>\n",
       "      <td>chr19</td>\n",
       "      <td>61296569</td>\n",
       "      <td>61297569</td>\n",
       "      <td>promoter</td>\n",
       "      <td>.</td>\n",
       "      <td>-</td>\n",
       "      <td>0</td>\n",
       "    </tr>\n",
       "    <tr>\n",
       "      <th>14632</th>\n",
       "      <td>chr19</td>\n",
       "      <td>61296902</td>\n",
       "      <td>61297069</td>\n",
       "      <td>exon</td>\n",
       "      <td>.</td>\n",
       "      <td>-</td>\n",
       "      <td>0</td>\n",
       "    </tr>\n",
       "  </tbody>\n",
       "</table>\n",
       "<p>14633 rows × 7 columns</p>\n",
       "</div>"
      ],
      "text/plain": [
       "       chr19   3197214   3198214  promoter  .  -  0\n",
       "0      chr19   3197605   3197714      exon  .  -  0\n",
       "1      chr19   3197029   3197605    intron  .  -  0\n",
       "2      chr19   3196945   3197029      exon  .  -  0\n",
       "3      chr19   3075885   3196945    intron  .  -  0\n",
       "4      chr19   3075714   3075885      exon  .  -  0\n",
       "...      ...       ...       ...       ... .. .. ..\n",
       "14628  chr19  61225133  61225214      exon  .  -  0\n",
       "14629  chr19  61225033  61225133    intron  .  -  0\n",
       "14630  chr19  61224402  61225033      exon  .  -  0\n",
       "14631  chr19  61296569  61297569  promoter  .  -  0\n",
       "14632  chr19  61296902  61297069      exon  .  -  0\n",
       "\n",
       "[14633 rows x 7 columns]"
      ]
     },
     "execution_count": 12,
     "metadata": {},
     "output_type": "execute_result"
    }
   ],
   "source": [
    "g_f = pd.read_csv(\"G1E_feat.bed\", sep = '\\t')\n",
    "g_f"
   ]
  },
  {
   "cell_type": "code",
   "execution_count": 22,
   "metadata": {},
   "outputs": [
    {
     "data": {
      "text/plain": [
       "32"
      ]
     },
     "execution_count": 22,
     "metadata": {},
     "output_type": "execute_result"
    }
   ],
   "source": [
    "g_ex = g_f.iloc[:, 3] == 'exon'\n",
    "g_ex = g_f.loc[g_ex, :]\n",
    "g_ex_true = g_ex.iloc[:, 6] != 0\n",
    "g_ex_true = g_ex.loc[g_ex_true,:]\n",
    "g_ex_true_count = g_ex_true.iloc[:, 6]\n",
    "g_ex_sum = g_ex_true_count.sum()\n",
    "g_ex_sum"
   ]
  },
  {
   "cell_type": "code",
   "execution_count": 84,
   "metadata": {},
   "outputs": [
    {
     "data": {
      "text/html": [
       "<div>\n",
       "<style scoped>\n",
       "    .dataframe tbody tr th:only-of-type {\n",
       "        vertical-align: middle;\n",
       "    }\n",
       "\n",
       "    .dataframe tbody tr th {\n",
       "        vertical-align: top;\n",
       "    }\n",
       "\n",
       "    .dataframe thead th {\n",
       "        text-align: right;\n",
       "    }\n",
       "</style>\n",
       "<table border=\"1\" class=\"dataframe\">\n",
       "  <thead>\n",
       "    <tr style=\"text-align: right;\">\n",
       "      <th></th>\n",
       "      <th>chr19</th>\n",
       "      <th>3197214</th>\n",
       "      <th>3198214</th>\n",
       "      <th>promoter</th>\n",
       "      <th>.</th>\n",
       "      <th>-</th>\n",
       "      <th>0</th>\n",
       "    </tr>\n",
       "  </thead>\n",
       "  <tbody>\n",
       "    <tr>\n",
       "      <th>53</th>\n",
       "      <td>chr19</td>\n",
       "      <td>3289087</td>\n",
       "      <td>3292436</td>\n",
       "      <td>intron</td>\n",
       "      <td>.</td>\n",
       "      <td>+</td>\n",
       "      <td>1</td>\n",
       "    </tr>\n",
       "    <tr>\n",
       "      <th>81</th>\n",
       "      <td>chr19</td>\n",
       "      <td>3371677</td>\n",
       "      <td>3375093</td>\n",
       "      <td>intron</td>\n",
       "      <td>.</td>\n",
       "      <td>+</td>\n",
       "      <td>1</td>\n",
       "    </tr>\n",
       "    <tr>\n",
       "      <th>195</th>\n",
       "      <td>chr19</td>\n",
       "      <td>3622726</td>\n",
       "      <td>3628273</td>\n",
       "      <td>intron</td>\n",
       "      <td>.</td>\n",
       "      <td>-</td>\n",
       "      <td>1</td>\n",
       "    </tr>\n",
       "    <tr>\n",
       "      <th>223</th>\n",
       "      <td>chr19</td>\n",
       "      <td>3586480</td>\n",
       "      <td>3590974</td>\n",
       "      <td>intron</td>\n",
       "      <td>.</td>\n",
       "      <td>-</td>\n",
       "      <td>2</td>\n",
       "    </tr>\n",
       "    <tr>\n",
       "      <th>369</th>\n",
       "      <td>chr19</td>\n",
       "      <td>3944296</td>\n",
       "      <td>3947007</td>\n",
       "      <td>intron</td>\n",
       "      <td>.</td>\n",
       "      <td>+</td>\n",
       "      <td>1</td>\n",
       "    </tr>\n",
       "    <tr>\n",
       "      <th>...</th>\n",
       "      <td>...</td>\n",
       "      <td>...</td>\n",
       "      <td>...</td>\n",
       "      <td>...</td>\n",
       "      <td>...</td>\n",
       "      <td>...</td>\n",
       "      <td>...</td>\n",
       "    </tr>\n",
       "    <tr>\n",
       "      <th>14389</th>\n",
       "      <td>chr19</td>\n",
       "      <td>60160280</td>\n",
       "      <td>60161061</td>\n",
       "      <td>intron</td>\n",
       "      <td>.</td>\n",
       "      <td>+</td>\n",
       "      <td>1</td>\n",
       "    </tr>\n",
       "    <tr>\n",
       "      <th>14423</th>\n",
       "      <td>chr19</td>\n",
       "      <td>60545541</td>\n",
       "      <td>60563162</td>\n",
       "      <td>intron</td>\n",
       "      <td>.</td>\n",
       "      <td>-</td>\n",
       "      <td>1</td>\n",
       "    </tr>\n",
       "    <tr>\n",
       "      <th>14551</th>\n",
       "      <td>chr19</td>\n",
       "      <td>60890631</td>\n",
       "      <td>60987702</td>\n",
       "      <td>intron</td>\n",
       "      <td>.</td>\n",
       "      <td>+</td>\n",
       "      <td>1</td>\n",
       "    </tr>\n",
       "    <tr>\n",
       "      <th>14573</th>\n",
       "      <td>chr19</td>\n",
       "      <td>61083269</td>\n",
       "      <td>61086072</td>\n",
       "      <td>intron</td>\n",
       "      <td>.</td>\n",
       "      <td>+</td>\n",
       "      <td>1</td>\n",
       "    </tr>\n",
       "    <tr>\n",
       "      <th>14593</th>\n",
       "      <td>chr19</td>\n",
       "      <td>61058276</td>\n",
       "      <td>61127007</td>\n",
       "      <td>intron</td>\n",
       "      <td>.</td>\n",
       "      <td>-</td>\n",
       "      <td>3</td>\n",
       "    </tr>\n",
       "  </tbody>\n",
       "</table>\n",
       "<p>233 rows × 7 columns</p>\n",
       "</div>"
      ],
      "text/plain": [
       "       chr19   3197214   3198214 promoter  .  -  0\n",
       "53     chr19   3289087   3292436   intron  .  +  1\n",
       "81     chr19   3371677   3375093   intron  .  +  1\n",
       "195    chr19   3622726   3628273   intron  .  -  1\n",
       "223    chr19   3586480   3590974   intron  .  -  2\n",
       "369    chr19   3944296   3947007   intron  .  +  1\n",
       "...      ...       ...       ...      ... .. .. ..\n",
       "14389  chr19  60160280  60161061   intron  .  +  1\n",
       "14423  chr19  60545541  60563162   intron  .  -  1\n",
       "14551  chr19  60890631  60987702   intron  .  +  1\n",
       "14573  chr19  61083269  61086072   intron  .  +  1\n",
       "14593  chr19  61058276  61127007   intron  .  -  3\n",
       "\n",
       "[233 rows x 7 columns]"
      ]
     },
     "execution_count": 84,
     "metadata": {},
     "output_type": "execute_result"
    }
   ],
   "source": [
    "g_int = g_f.iloc[:, 3] == 'intron'\n",
    "g_int = g_f.loc[g_int, :]\n",
    "g_int_true = g_int.iloc[:, 6] != 0\n",
    "g_int_true = g_int.loc[g_int_true,:]\n",
    "g_int_true_count = g_int_true.iloc[:, 6]\n",
    "g_int_sum = g_int_true_count.sum()\n",
    "g_int_sum"
   ]
  },
  {
   "cell_type": "code",
   "execution_count": 46,
   "metadata": {},
   "outputs": [],
   "source": [
    "g_p = g_f.iloc[:, 3] == 'promoter'\n",
    "g_p = g_f.loc[g_p, :]\n",
    "g_p_true = g_p.iloc[:, 6] != 0\n",
    "g_p_true = g_p.loc[g_p_true,:]\n",
    "g_p_true_count = g_p_true.iloc[:, 6]\n",
    "g_p_sum = g_p_true_count.sum()"
   ]
  },
  {
   "cell_type": "code",
   "execution_count": 56,
   "metadata": {
    "scrolled": true
   },
   "outputs": [
    {
     "name": "stdout",
     "output_type": "stream",
     "text": [
      "[32, 275, 43]\n"
     ]
    }
   ],
   "source": [
    "g_sums = [g_ex_sum, g_int_sum, g_p_sum]\n",
    "print(g_sums)"
   ]
  },
  {
   "cell_type": "code",
   "execution_count": 26,
   "metadata": {},
   "outputs": [
    {
     "data": {
      "text/html": [
       "<div>\n",
       "<style scoped>\n",
       "    .dataframe tbody tr th:only-of-type {\n",
       "        vertical-align: middle;\n",
       "    }\n",
       "\n",
       "    .dataframe tbody tr th {\n",
       "        vertical-align: top;\n",
       "    }\n",
       "\n",
       "    .dataframe thead th {\n",
       "        text-align: right;\n",
       "    }\n",
       "</style>\n",
       "<table border=\"1\" class=\"dataframe\">\n",
       "  <thead>\n",
       "    <tr style=\"text-align: right;\">\n",
       "      <th></th>\n",
       "      <th>chr19</th>\n",
       "      <th>3197214</th>\n",
       "      <th>3198214</th>\n",
       "      <th>promoter</th>\n",
       "      <th>.</th>\n",
       "      <th>-</th>\n",
       "      <th>0</th>\n",
       "    </tr>\n",
       "  </thead>\n",
       "  <tbody>\n",
       "    <tr>\n",
       "      <th>0</th>\n",
       "      <td>chr19</td>\n",
       "      <td>3197605</td>\n",
       "      <td>3197714</td>\n",
       "      <td>exon</td>\n",
       "      <td>.</td>\n",
       "      <td>-</td>\n",
       "      <td>0</td>\n",
       "    </tr>\n",
       "    <tr>\n",
       "      <th>1</th>\n",
       "      <td>chr19</td>\n",
       "      <td>3197029</td>\n",
       "      <td>3197605</td>\n",
       "      <td>intron</td>\n",
       "      <td>.</td>\n",
       "      <td>-</td>\n",
       "      <td>0</td>\n",
       "    </tr>\n",
       "    <tr>\n",
       "      <th>2</th>\n",
       "      <td>chr19</td>\n",
       "      <td>3196945</td>\n",
       "      <td>3197029</td>\n",
       "      <td>exon</td>\n",
       "      <td>.</td>\n",
       "      <td>-</td>\n",
       "      <td>0</td>\n",
       "    </tr>\n",
       "    <tr>\n",
       "      <th>3</th>\n",
       "      <td>chr19</td>\n",
       "      <td>3075885</td>\n",
       "      <td>3196945</td>\n",
       "      <td>intron</td>\n",
       "      <td>.</td>\n",
       "      <td>-</td>\n",
       "      <td>0</td>\n",
       "    </tr>\n",
       "    <tr>\n",
       "      <th>4</th>\n",
       "      <td>chr19</td>\n",
       "      <td>3075714</td>\n",
       "      <td>3075885</td>\n",
       "      <td>exon</td>\n",
       "      <td>.</td>\n",
       "      <td>-</td>\n",
       "      <td>0</td>\n",
       "    </tr>\n",
       "    <tr>\n",
       "      <th>...</th>\n",
       "      <td>...</td>\n",
       "      <td>...</td>\n",
       "      <td>...</td>\n",
       "      <td>...</td>\n",
       "      <td>...</td>\n",
       "      <td>...</td>\n",
       "      <td>...</td>\n",
       "    </tr>\n",
       "    <tr>\n",
       "      <th>14628</th>\n",
       "      <td>chr19</td>\n",
       "      <td>61225133</td>\n",
       "      <td>61225214</td>\n",
       "      <td>exon</td>\n",
       "      <td>.</td>\n",
       "      <td>-</td>\n",
       "      <td>0</td>\n",
       "    </tr>\n",
       "    <tr>\n",
       "      <th>14629</th>\n",
       "      <td>chr19</td>\n",
       "      <td>61225033</td>\n",
       "      <td>61225133</td>\n",
       "      <td>intron</td>\n",
       "      <td>.</td>\n",
       "      <td>-</td>\n",
       "      <td>0</td>\n",
       "    </tr>\n",
       "    <tr>\n",
       "      <th>14630</th>\n",
       "      <td>chr19</td>\n",
       "      <td>61224402</td>\n",
       "      <td>61225033</td>\n",
       "      <td>exon</td>\n",
       "      <td>.</td>\n",
       "      <td>-</td>\n",
       "      <td>0</td>\n",
       "    </tr>\n",
       "    <tr>\n",
       "      <th>14631</th>\n",
       "      <td>chr19</td>\n",
       "      <td>61296569</td>\n",
       "      <td>61297569</td>\n",
       "      <td>promoter</td>\n",
       "      <td>.</td>\n",
       "      <td>-</td>\n",
       "      <td>0</td>\n",
       "    </tr>\n",
       "    <tr>\n",
       "      <th>14632</th>\n",
       "      <td>chr19</td>\n",
       "      <td>61296902</td>\n",
       "      <td>61297069</td>\n",
       "      <td>exon</td>\n",
       "      <td>.</td>\n",
       "      <td>-</td>\n",
       "      <td>0</td>\n",
       "    </tr>\n",
       "  </tbody>\n",
       "</table>\n",
       "<p>14633 rows × 7 columns</p>\n",
       "</div>"
      ],
      "text/plain": [
       "       chr19   3197214   3198214  promoter  .  -  0\n",
       "0      chr19   3197605   3197714      exon  .  -  0\n",
       "1      chr19   3197029   3197605    intron  .  -  0\n",
       "2      chr19   3196945   3197029      exon  .  -  0\n",
       "3      chr19   3075885   3196945    intron  .  -  0\n",
       "4      chr19   3075714   3075885      exon  .  -  0\n",
       "...      ...       ...       ...       ... .. .. ..\n",
       "14628  chr19  61225133  61225214      exon  .  -  0\n",
       "14629  chr19  61225033  61225133    intron  .  -  0\n",
       "14630  chr19  61224402  61225033      exon  .  -  0\n",
       "14631  chr19  61296569  61297569  promoter  .  -  0\n",
       "14632  chr19  61296902  61297069      exon  .  -  0\n",
       "\n",
       "[14633 rows x 7 columns]"
      ]
     },
     "execution_count": 26,
     "metadata": {},
     "output_type": "execute_result"
    }
   ],
   "source": [
    "e_f = pd.read_csv(\"ER4_feat.bed\", sep = '\\t')\n",
    "e_f"
   ]
  },
  {
   "cell_type": "code",
   "execution_count": 27,
   "metadata": {},
   "outputs": [
    {
     "data": {
      "text/plain": [
       "52"
      ]
     },
     "execution_count": 27,
     "metadata": {},
     "output_type": "execute_result"
    }
   ],
   "source": [
    "e_ex = e_f.iloc[:, 3] == 'exon'\n",
    "e_ex = e_f.loc[e_ex, :]\n",
    "e_ex_true = e_ex.iloc[:, 6] != 0\n",
    "e_ex_true = e_ex.loc[e_ex_true,:]\n",
    "e_ex_true_count = e_ex_true.iloc[:, 6]\n",
    "e_ex_sum = e_ex_true_count.sum()\n",
    "e_ex_sum"
   ]
  },
  {
   "cell_type": "code",
   "execution_count": 28,
   "metadata": {},
   "outputs": [
    {
     "data": {
      "text/plain": [
       "298"
      ]
     },
     "execution_count": 28,
     "metadata": {},
     "output_type": "execute_result"
    }
   ],
   "source": [
    "e_int = e_f.iloc[:, 3] == 'intron'\n",
    "e_int = e_f.loc[e_int, :]\n",
    "e_int_true = e_int.iloc[:, 6] != 0\n",
    "e_int_true = e_int.loc[e_int_true,:]\n",
    "e_int_true_count = e_int_true.iloc[:, 6]\n",
    "e_int_sum = e_int_true_count.sum()\n",
    "e_int_sum"
   ]
  },
  {
   "cell_type": "code",
   "execution_count": 31,
   "metadata": {},
   "outputs": [
    {
     "data": {
      "text/plain": [
       "55"
      ]
     },
     "execution_count": 31,
     "metadata": {},
     "output_type": "execute_result"
    }
   ],
   "source": [
    "e_p = e_f.iloc[:, 3] == 'promoter'\n",
    "e_p = e_f.loc[e_p, :]\n",
    "e_p_true = e_p.iloc[:, 6] != 0\n",
    "e_p_true = e_p.loc[e_p_true,:]\n",
    "e_p_true_count = e_p_true.iloc[:, 6]\n",
    "e_p_sum = e_p_true_count.sum()\n",
    "e_p_sum"
   ]
  },
  {
   "cell_type": "code",
   "execution_count": 34,
   "metadata": {},
   "outputs": [
    {
     "name": "stdout",
     "output_type": "stream",
     "text": [
      "[52, 298, 55]\n"
     ]
    }
   ],
   "source": [
    "e_sums = [e_ex_sum, e_int_sum, e_p_sum]\n",
    "print(e_sums)"
   ]
  },
  {
   "cell_type": "code",
   "execution_count": 75,
   "metadata": {},
   "outputs": [
    {
     "name": "stdout",
     "output_type": "stream",
     "text": [
      "662\n"
     ]
    }
   ],
   "source": [
    "df_gained = pd.read_csv('diff_exp.bed', sep = '\\t')\n",
    "gained = df_gained['chr19'].count()\n",
    "print(gained)"
   ]
  },
  {
   "cell_type": "code",
   "execution_count": 80,
   "metadata": {},
   "outputs": [
    {
     "name": "stdout",
     "output_type": "stream",
     "text": [
      "576\n"
     ]
    }
   ],
   "source": [
    "df_lost = pd.read_csv('diff_exp2.bed', sep = '\\t')\n",
    "lost = df_lost['chr19'].count()\n",
    "print(lost)"
   ]
  },
  {
   "cell_type": "code",
   "execution_count": 81,
   "metadata": {},
   "outputs": [],
   "source": [
    "gained_lost = [gained, lost]"
   ]
  },
  {
   "cell_type": "code",
   "execution_count": 85,
   "metadata": {
    "scrolled": true
   },
   "outputs": [
    {
     "data": {
      "image/png": "[encoded data removed]",
      "text/plain": [
       "<Figure size 720x360 with 2 Axes>"
      ]
     },
     "metadata": {
      "needs_background": "light"
     },
     "output_type": "display_data"
    }
   ],
   "source": [
    "fig, ax = plt.subplots(ncols=2, figsize = (10.0, 5.0))\n",
    "labels = ['exon', 'intron', 'promoter']\n",
    "ax[0].bar(labels, g_sums, label = 'G1E')\n",
    "ax[0].bar(labels, e_sums, bottom = g_sums, label = 'ER4')\n",
    "ax[0].legend()\n",
    "ax[0].set_xlabel('Region type')\n",
    "ax[0].set_ylabel('Number of CTCF binding sites')\n",
    "ax[0].set_title('CTCF Binding in different regions')\n",
    "labels2 = ['Gained', 'Lost']\n",
    "ax[1].bar(labels2, gained_lost)\n",
    "ax[1].set_xlabel('Status of binding site after differentiation')\n",
    "ax[1].set_ylabel('Number of CTCF binding sites')\n",
    "ax[1].set_title('CTCF binding status after differentiation')\n",
    "plt.show()"
   ]
  },
  {
   "cell_type": "code",
   "execution_count": null,
   "metadata": {},
   "outputs": [],
   "source": [
    "##I don't think this is right....why would there be so much more CTCF binding in introns???"
   ]
  }
 ],
 "metadata": {
  "kernelspec": {
   "display_name": "Python 3",
   "language": "python",
   "name": "python3"
  },
  "language_info": {
   "codemirror_mode": {
    "name": "ipython",
    "version": 3
   },
   "file_extension": ".py",
   "mimetype": "text/x-python",
   "name": "python",
   "nbconvert_exporter": "python",
   "pygments_lexer": "ipython3",
   "version": "3.6.10"
  }
 },
 "nbformat": 4,
 "nbformat_minor": 4
}
