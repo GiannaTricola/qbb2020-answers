{
 "cells": [
  {
   "cell_type": "markdown",
   "metadata": {},
   "source": [
    "# Implement Binary Search"
   ]
  },
  {
   "cell_type": "code",
   "execution_count": 82,
   "metadata": {},
   "outputs": [],
   "source": [
    "#open file \n",
    "fs = open('/Users/cmdb/qbb2020-answers/day4-lunch/BDGP6.Ensembl.81.gtf' , 'r')\n",
    "#create list for fields of interest to be stored\n",
    "foi= []\n",
    "###sparse through files ignoring biotypes that are not protein coding\n",
    "for line in fs:\n",
    "    if 'protein_coding' not in line:\n",
    "        continue      \n",
    "    else:\n",
    "        fields = line.strip().split()\n",
    "        ind_gene = fields.index('gene_name')\n",
    "        gene_name = fields[ind_gene + 1]\n",
    "        #print(fields)  \n",
    "    if (fields[0] == '3R' and fields[2] == 'gene'):\n",
    "        foi.append([gene_name, int(fields[3]), int(fields[4])])\n",
    "fs.close()\n",
    "#print(len(foi))\n",
    "   \n",
    "        "
   ]
  },
  {
   "cell_type": "code",
   "execution_count": 87,
   "metadata": {},
   "outputs": [
    {
     "name": "stdout",
     "output_type": "stream",
     "text": [
      "\"tin\";\n",
      "13\n"
     ]
    }
   ],
   "source": [
    "low = 0\n",
    "high = len(foi)\n",
    "mid= int(len(foi)/2)\n",
    "\n",
    "\n",
    "pos = 21378950\n",
    "counter = 0\n",
    "counter2 = 0\n",
    "while counter < 1:\n",
    "    counter2 +=1\n",
    "    if high == low + 1:\n",
    "        if (pos - foi[low][2]) > (foi[high][1] - pos):\n",
    "            print(foi[high][0])\n",
    "            counter +=1\n",
    "        elif (pos - foi[low][2]) < (foi[high][1] - pos):\n",
    "            print(foi[low][0])\n",
    "            counter +=1\n",
    "    else:\n",
    "        if pos < foi[mid][1]:\n",
    "            high = mid\n",
    "            mid = int((high + low)/2)\n",
    "        elif pos > foi[mid][2]:\n",
    "            low = mid\n",
    "            mid = int((high + low)/2)\n",
    "        else:\n",
    "            print(foi[pos][0])\n",
    "            counter +=1\n",
    "print(counter2)\n",
    "        \n",
    "\n",
    "         "
   ]
  },
  {
   "cell_type": "code",
   "execution_count": null,
   "metadata": {},
   "outputs": [],
   "source": []
  }
 ],
 "metadata": {
  "kernelspec": {
   "display_name": "Python 3",
   "language": "python",
   "name": "python3"
  },
  "language_info": {
   "codemirror_mode": {
    "name": "ipython",
    "version": 3
   },
   "file_extension": ".py",
   "mimetype": "text/x-python",
   "name": "python",
   "nbconvert_exporter": "python",
   "pygments_lexer": "ipython3",
   "version": "3.6.10"
  }
 },
 "nbformat": 4,
 "nbformat_minor": 4
}
